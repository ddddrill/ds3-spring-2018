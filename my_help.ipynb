{
 "cells": [
  {
   "cell_type": "markdown",
   "metadata": {},
   "source": [
    "##### Интересный способ разбиения и выбора из строки нужного слова  \n",
    "x.split( )[0])   \n",
    "сначала мы разбиваем строку на слова с помощью сплита, а потом выбираем из списка нужное нам значение"
   ]
  },
  {
   "cell_type": "markdown",
   "metadata": {},
   "source": [
    "-----"
   ]
  },
  {
   "cell_type": "markdown",
   "metadata": {},
   "source": [
    "### Про fit и fit_transform, transform\n",
    "\n",
    "StandartScaler ( ). Fit ( ) узнает Среднее и Стандарт отклонение из данного учебного набора данных.  \n",
    "Он хранит эти научные параметры в объекте. \n",
    "\n",
    "Метод использует изученные параметры от FIT ( ), для преобразования наборов данных.  \n",
    "Давайте продолжим работу над центрирующим примером, показанным выше. Выученные параметры уже хранятся в Стандартный класс объект.   \n",
    "transform ( ) Способ сначала используется на наборе обучения. трансформироваться ( ) Метод центры, установленные на данных около 0 и масштабирует его, чтобы иметь дисперсию единицы.  \n",
    "transform ( ) Метод также используется на тестовых данных, установленных для центра и масштабирования его так же.\n",
    "\n",
    "fit_transform ( ) Оптимизированная версия Fit ( ) и трансформироваться () собрать вместе.  \n",
    " fit_transform ( ) это * Только * вызывается для учебного набора данных. "
   ]
  },
  {
   "cell_type": "markdown",
   "metadata": {},
   "source": [
    "### Немного о LabelEncoder\n",
    "\n",
    "LabelEncoder — служебный класс, помогающий нормализовать метки таким образом, чтобы они содержали только значения от 0 до n_classes-1.  \n",
    "Иногда это полезно для написания эффективных подпрограмм Cython. "
   ]
  },
  {
   "cell_type": "markdown",
   "metadata": {},
   "source": [
    "---\n"
   ]
  },
  {
   "cell_type": "markdown",
   "metadata": {},
   "source": [
    "### Pickle  \n",
    "\n",
    "Итак, сериализация (англ. serialization, marshalling) – это способ преобразования структуры данных в линейную форму, которую можно сохранить или передать по сети. \n",
    "Обратный процесс преобразования сериализованного объекта в исходную структуру данных называется десериализацией (англ. deserialization, unmarshalling)."
   ]
  },
  {
   "cell_type": "markdown",
   "metadata": {},
   "source": [
    "---"
   ]
  },
  {
   "cell_type": "markdown",
   "metadata": {},
   "source": [
    "Когда базовая реализация использует joblib, количество рабочих (потоков или процессов),   \n",
    "которые создаются параллельно, можно контролировать с помощью n_jobs параметра.\n",
    "\n",
    "Обычно лучше экспериментировать, чем предполагать, что увеличение числа рабочих — это всегда хорошо.   \n",
    "В некоторых случаях параллельное выполнение нескольких копий некоторых оценщиков или функций может нанести серьезный ущерб производительности"
   ]
  },
  {
   "attachments": {},
   "cell_type": "markdown",
   "metadata": {},
   "source": [
    "---\n"
   ]
  },
  {
   "attachments": {},
   "cell_type": "markdown",
   "metadata": {},
   "source": [
    "le = LabelEncoder()  \n",
    "пример \"расшировки\" столбца sex  \n",
    "le.transform( [ 'male', 'female', 'male' ] )  \n",
    "array([1, 0, 1], dtype=int64)"
   ]
  },
  {
   "attachments": {},
   "cell_type": "markdown",
   "metadata": {},
   "source": [
    "---"
   ]
  },
  {
   "attachments": {},
   "cell_type": "markdown",
   "metadata": {},
   "source": [
    "Последний predict_proba представляет собой метод (мягкого) классификатора, выводящий вероятность нахождения экземпляра в каждом из классов.  \n",
    "\n",
    "Первый, decision_function, находит расстояние до разделяющей гиперплоскости.  \n",
    "Например, классификатор (n) SVM находит гиперплоскости, разделяющие пространство на области, связанные с результатами классификации.  \n",
    "Эта функция, учитывая точку, находит расстояние до разделителей."
   ]
  },
  {
   "attachments": {},
   "cell_type": "markdown",
   "metadata": {},
   "source": [
    "---\n"
   ]
  },
  {
   "attachments": {},
   "cell_type": "markdown",
   "metadata": {},
   "source": [
    "прочитать в документации про SGDRegressor\n"
   ]
  },
  {
   "attachments": {},
   "cell_type": "markdown",
   "metadata": {},
   "source": [
    "---"
   ]
  },
  {
   "attachments": {},
   "cell_type": "markdown",
   "metadata": {},
   "source": [
    "для того, чтобы рассмотреть какую лучше взять глубину из DecisionTreeClassifier можно посторить"
   ]
  },
  {
   "cell_type": "code",
   "execution_count": null,
   "metadata": {},
   "outputs": [],
   "source": [
    "means=[]\n",
    "stds=[]\n",
    "\n",
    "for depth in range(0,20):\n",
    "    scores=cross_val_score(DecisionTreeClassifire(max_depth=depth),X,Y, cv=6,scoring='accuracy')\n",
    "\n",
    "    print(depth,scores.mean())\n",
    "\n",
    "    means.append(scores.mean())\n",
    "    stds.append(scores.std())"
   ]
  },
  {
   "cell_type": "code",
   "execution_count": null,
   "metadata": {},
   "outputs": [],
   "source": [
    "max(means)"
   ]
  },
  {
   "cell_type": "code",
   "execution_count": null,
   "metadata": {},
   "outputs": [],
   "source": [
    "%pylab inline"
   ]
  },
  {
   "cell_type": "code",
   "execution_count": null,
   "metadata": {},
   "outputs": [],
   "source": [
    "plt.errorbar(range(1,20),means,stds)"
   ]
  }
 ],
 "metadata": {
  "kernelspec": {
   "display_name": "Python 3",
   "language": "python",
   "name": "python3"
  },
  "language_info": {
   "name": "python",
   "version": "3.8.10 (tags/v3.8.10:3d8993a, May  3 2021, 11:48:03) [MSC v.1928 64 bit (AMD64)]"
  },
  "orig_nbformat": 4,
  "vscode": {
   "interpreter": {
    "hash": "adb1797d200208ed0bc272f73bd68ac667f43ec36fda494da38fde51277876e8"
   }
  }
 },
 "nbformat": 4,
 "nbformat_minor": 2
}
