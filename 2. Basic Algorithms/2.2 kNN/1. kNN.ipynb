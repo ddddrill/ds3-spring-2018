{
 "cells": [
  {
   "cell_type": "markdown",
   "metadata": {},
   "source": [
    "# Метод k ближайших соседей"
   ]
  },
  {
   "cell_type": "markdown",
   "metadata": {},
   "source": [
    "### Сформируем данные"
   ]
  },
  {
   "cell_type": "code",
   "execution_count": 1,
   "metadata": {
    "collapsed": true
   },
   "outputs": [],
   "source": [
    "import random\n",
    "import numpy as np\n",
    "import matplotlib.pyplot as plt\n",
    "from matplotlib.colors import ListedColormap"
   ]
  },
  {
   "cell_type": "code",
   "execution_count": 6,
   "metadata": {
    "collapsed": true
   },
   "outputs": [],
   "source": [
    "def generateRandomCluster( xCenter, yCenter, pointsInCluster, sigma, clusterNumber ):\n",
    "    \"\"\"\n",
    "    Функция формирует набор случайных pointsInCluster точек вокруг центра xCenter, yCenter со стандартным отклонением sigma.\n",
    "    Для удобства сразу приписываем номер кластера clusterNumber\n",
    "    \n",
    "    Пример\n",
    "    generateRandomCluster( 50, 50, 5, 1, 1 )\n",
    "    \n",
    "    [ (49.4383741073746, 50.759631072447775, 1),\n",
    "     (50.382663637239496, 51.958511415275346, 1),\n",
    "     (51.35861614413671, 50.14508008851586, 1),\n",
    "     (49.99654565817289, 48.868625830102836, 1),\n",
    "     (48.90429842105296, 50.30684883451077, 1) ]\n",
    "    \"\"\"\n",
    "    \n",
    "    clusterData = []\n",
    "    for point in range( pointsInCluster ):\n",
    "        clusterData.append( ( random.gauss( xCenter, sigma ), random.gauss( yCenter, sigma ), clusterNumber ) )\n",
    "    \n",
    "    return clusterData"
   ]
  },
  {
   "cell_type": "code",
   "execution_count": 7,
   "metadata": {
    "collapsed": true
   },
   "outputs": [],
   "source": [
    "def generateNClusters( clustersNumber, minCoordinate, maxLength, pointsInCluster, sigma ):\n",
    "    \"\"\"\n",
    "    Функция генерит clustersNumber кластеров в пределах (x, y) координат от minCoordinate до minCoordinate + maxLength\n",
    "    \n",
    "    Пример\n",
    "    generateNClusters( 3, 0, 100, 5, 1 )\n",
    "    \n",
    "    [\n",
    "        [ (30.101595428493244, 97.81846577317793, 0),\n",
    "          (30.982265309141784, 94.85561016707207, 0),\n",
    "          (29.324361801401345, 96.13225349356063, 0),\n",
    "          (28.55314432177591, 97.71789084567285, 0),\n",
    "          (30.925804186398505, 97.73651238892455, 0)],\n",
    "        [ (35.42172429469604, 62.868371107151994, 1),\n",
    "          (36.36575870693403, 60.81612414265114, 1),\n",
    "          (36.3958015730347, 60.845554677754464, 1),\n",
    "          (35.29157575130411, 63.179905869433654, 1),\n",
    "          (38.19703749175945, 61.839734328145795, 1)],\n",
    "        [ (92.22845587073014, 40.18055397530009, 2),\n",
    "          (90.7642755825596, 40.68519067128221, 2),\n",
    "          (92.27913966714033, 39.604710170714505, 2),\n",
    "          (93.57420210013105, 40.20564381974239, 2),\n",
    "          (92.33724850339567, 40.261922276131735, 2)]\n",
    "    ]\n",
    "    \"\"\"\n",
    "    \n",
    "    clustersData = []\n",
    "    for cluster in range( clustersNumber ):\n",
    "        clustersData.append( generateRandomCluster( minCoordinate + maxLength * random.random(), \n",
    "                                                    minCoordinate + maxLength * random.random(),\n",
    "                                                    pointsInCluster,\n",
    "                                                    sigma, cluster) )\n",
    "    \n",
    "    return clustersData"
   ]
  },
  {
   "cell_type": "code",
   "execution_count": 8,
   "metadata": {
    "collapsed": true
   },
   "outputs": [],
   "source": [
    "def drawClusters( clustersData ):\n",
    "    \"\"\"\n",
    "    Функция рисует набор кластеров по данным clustersData\n",
    "    \"\"\"\n",
    "    \n",
    "    for cluster in clustersData:\n",
    "        xData = []\n",
    "        yData = []\n",
    "        colors = []\n",
    "        \n",
    "        for point in cluster:\n",
    "            xData.append( point[0] )\n",
    "            yData.append( point[1] )\n",
    "            colors.append( point[2] )\n",
    "    \n",
    "        plt.scatter( xData, yData, label = colors[0] )\n",
    "        \n",
    "    plt.legend( loc='upper right' )\n",
    "    plt.show()"
   ]
  },
  {
   "cell_type": "code",
   "execution_count": 9,
   "metadata": {
    "collapsed": true
   },
   "outputs": [],
   "source": [
    "clustersNumber = 3\n",
    "minCoordinate = 0\n",
    "maxLength = 100\n",
    "pointsInCluster = 15\n",
    "sigma = 5"
   ]
  },
  {
   "cell_type": "code",
   "execution_count": 21,
   "metadata": {},
   "outputs": [
    {
     "data": {
      "image/png": "[encoded data removed]",
      "text/plain": [
       "<Figure size 640x480 with 1 Axes>"
      ]
     },
     "metadata": {},
     "output_type": "display_data"
    }
   ],
   "source": [
    "data = generateNClusters( clustersNumber, minCoordinate, maxLength, pointsInCluster, sigma )\n",
    "drawClusters( data )"
   ]
  },
  {
   "cell_type": "markdown",
   "metadata": {},
   "source": [
    "### Строим модель"
   ]
  },
  {
   "cell_type": "code",
   "execution_count": 22,
   "metadata": {
    "collapsed": true
   },
   "outputs": [],
   "source": [
    "from sklearn.neighbors import KNeighborsClassifier"
   ]
  },
  {
   "cell_type": "code",
   "execution_count": 23,
   "metadata": {
    "collapsed": true
   },
   "outputs": [],
   "source": [
    "# http://scikit-learn.org/stable/modules/generated/sklearn.neighbors.KNeighborsClassifier.html\n",
    "model = KNeighborsClassifier( n_neighbors = 3 )"
   ]
  },
  {
   "cell_type": "code",
   "execution_count": 24,
   "metadata": {
    "collapsed": true
   },
   "outputs": [],
   "source": [
    "X = []\n",
    "Y = []\n",
    "\n",
    "for cluster in data:\n",
    "    for point in cluster:\n",
    "        X.append( [ point[0], point[1] ] )\n",
    "        Y.append( point[2] )"
   ]
  },
  {
   "cell_type": "code",
   "execution_count": 25,
   "metadata": {},
   "outputs": [
    {
     "data": {
      "text/html": [
       "<style>#sk-container-id-2 {color: black;background-color: white;}#sk-container-id-2 pre{padding: 0;}#sk-container-id-2 div.sk-toggleable {background-color: white;}#sk-container-id-2 label.sk-toggleable__label {cursor: pointer;display: block;width: 100%;margin-bottom: 0;padding: 0.3em;box-sizing: border-box;text-align: center;}#sk-container-id-2 label.sk-toggleable__label-arrow:before {content: \"▸\";float: left;margin-right: 0.25em;color: #696969;}#sk-container-id-2 label.sk-toggleable__label-arrow:hover:before {color: black;}#sk-container-id-2 div.sk-estimator:hover label.sk-toggleable__label-arrow:before {color: black;}#sk-container-id-2 div.sk-toggleable__content {max-height: 0;max-width: 0;overflow: hidden;text-align: left;background-color: #f0f8ff;}#sk-container-id-2 div.sk-toggleable__content pre {margin: 0.2em;color: black;border-radius: 0.25em;background-color: #f0f8ff;}#sk-container-id-2 input.sk-toggleable__control:checked~div.sk-toggleable__content {max-height: 200px;max-width: 100%;overflow: auto;}#sk-container-id-2 input.sk-toggleable__control:checked~label.sk-toggleable__label-arrow:before {content: \"▾\";}#sk-container-id-2 div.sk-estimator input.sk-toggleable__control:checked~label.sk-toggleable__label {background-color: #d4ebff;}#sk-container-id-2 div.sk-label input.sk-toggleable__control:checked~label.sk-toggleable__label {background-color: #d4ebff;}#sk-container-id-2 input.sk-hidden--visually {border: 0;clip: rect(1px 1px 1px 1px);clip: rect(1px, 1px, 1px, 1px);height: 1px;margin: -1px;overflow: hidden;padding: 0;position: absolute;width: 1px;}#sk-container-id-2 div.sk-estimator {font-family: monospace;background-color: #f0f8ff;border: 1px dotted black;border-radius: 0.25em;box-sizing: border-box;margin-bottom: 0.5em;}#sk-container-id-2 div.sk-estimator:hover {background-color: #d4ebff;}#sk-container-id-2 div.sk-parallel-item::after {content: \"\";width: 100%;border-bottom: 1px solid gray;flex-grow: 1;}#sk-container-id-2 div.sk-label:hover label.sk-toggleable__label {background-color: #d4ebff;}#sk-container-id-2 div.sk-serial::before {content: \"\";position: absolute;border-left: 1px solid gray;box-sizing: border-box;top: 0;bottom: 0;left: 50%;z-index: 0;}#sk-container-id-2 div.sk-serial {display: flex;flex-direction: column;align-items: center;background-color: white;padding-right: 0.2em;padding-left: 0.2em;position: relative;}#sk-container-id-2 div.sk-item {position: relative;z-index: 1;}#sk-container-id-2 div.sk-parallel {display: flex;align-items: stretch;justify-content: center;background-color: white;position: relative;}#sk-container-id-2 div.sk-item::before, #sk-container-id-2 div.sk-parallel-item::before {content: \"\";position: absolute;border-left: 1px solid gray;box-sizing: border-box;top: 0;bottom: 0;left: 50%;z-index: -1;}#sk-container-id-2 div.sk-parallel-item {display: flex;flex-direction: column;z-index: 1;position: relative;background-color: white;}#sk-container-id-2 div.sk-parallel-item:first-child::after {align-self: flex-end;width: 50%;}#sk-container-id-2 div.sk-parallel-item:last-child::after {align-self: flex-start;width: 50%;}#sk-container-id-2 div.sk-parallel-item:only-child::after {width: 0;}#sk-container-id-2 div.sk-dashed-wrapped {border: 1px dashed gray;margin: 0 0.4em 0.5em 0.4em;box-sizing: border-box;padding-bottom: 0.4em;background-color: white;}#sk-container-id-2 div.sk-label label {font-family: monospace;font-weight: bold;display: inline-block;line-height: 1.2em;}#sk-container-id-2 div.sk-label-container {text-align: center;}#sk-container-id-2 div.sk-container {/* jupyter's `normalize.less` sets `[hidden] { display: none; }` but bootstrap.min.css set `[hidden] { display: none !important; }` so we also need the `!important` here to be able to override the default hidden behavior on the sphinx rendered scikit-learn.org. See: https://github.com/scikit-learn/scikit-learn/issues/21755 */display: inline-block !important;position: relative;}#sk-container-id-2 div.sk-text-repr-fallback {display: none;}</style><div id=\"sk-container-id-2\" class=\"sk-top-container\"><div class=\"sk-text-repr-fallback\"><pre>KNeighborsClassifier(n_neighbors=3)</pre><b>In a Jupyter environment, please rerun this cell to show the HTML representation or trust the notebook. <br />On GitHub, the HTML representation is unable to render, please try loading this page with nbviewer.org.</b></div><div class=\"sk-container\" hidden><div class=\"sk-item\"><div class=\"sk-estimator sk-toggleable\"><input class=\"sk-toggleable__control sk-hidden--visually\" id=\"sk-estimator-id-2\" type=\"checkbox\" checked><label for=\"sk-estimator-id-2\" class=\"sk-toggleable__label sk-toggleable__label-arrow\">KNeighborsClassifier</label><div class=\"sk-toggleable__content\"><pre>KNeighborsClassifier(n_neighbors=3)</pre></div></div></div></div></div>"
      ],
      "text/plain": [
       "KNeighborsClassifier(n_neighbors=3)"
      ]
     },
     "execution_count": 25,
     "metadata": {},
     "output_type": "execute_result"
    }
   ],
   "source": [
    "model.fit( X, Y )"
   ]
  },
  {
   "cell_type": "code",
   "execution_count": 26,
   "metadata": {
    "collapsed": true
   },
   "outputs": [],
   "source": [
    "def KNeighbors( clustersData, model ):\n",
    "    \"\"\"\n",
    "    Визуализация результатов классификации\n",
    "    \"\"\"\n",
    "    step = 1\n",
    "    xx, yy = np.meshgrid( np.arange( minCoordinate, minCoordinate + maxLength, step ),\n",
    "                          np.arange( minCoordinate, minCoordinate + maxLength, step ) )\n",
    "    \n",
    "    Z = model.predict( np.c_[ xx.ravel(), yy.ravel() ] )\n",
    "    Z = Z.reshape( xx.shape )\n",
    "    \n",
    "    cmap_light = ListedColormap(['#FFAAAA', '#AAFFAA', '#AAAAFF'])\n",
    "    plt.pcolormesh(xx, yy, Z, cmap = cmap_light)\n",
    "    \n",
    "    for cluster in clustersData:\n",
    "        xData = []\n",
    "        yData = []\n",
    "        colors = []\n",
    "        \n",
    "        for point in cluster:\n",
    "            xData.append( point[0] )\n",
    "            yData.append( point[1] )\n",
    "            colors.append( point[2] )\n",
    "    \n",
    "        plt.scatter( xData, yData, label = colors[0] )\n",
    "        \n",
    "    plt.legend( loc='upper right' )\n",
    "    \n",
    "    plt.show()"
   ]
  },
  {
   "cell_type": "code",
   "execution_count": 27,
   "metadata": {},
   "outputs": [
    {
     "data": {
      "image/png": "[encoded data removed]",
      "text/plain": [
       "<Figure size 640x480 with 1 Axes>"
      ]
     },
     "metadata": {},
     "output_type": "display_data"
    }
   ],
   "source": [
    "data = generateNClusters( clustersNumber, minCoordinate, maxLength, pointsInCluster, sigma )\n",
    "\n",
    "X = []\n",
    "Y = []\n",
    "\n",
    "for cluster in data:\n",
    "    for point in cluster:\n",
    "        X.append( [ point[0], point[1] ] )\n",
    "        Y.append( point[2] )\n",
    "\n",
    "model.fit( X, Y )\n",
    "\n",
    "KNeighbors( data, model )"
   ]
  }
 ],
 "metadata": {
  "kernelspec": {
   "display_name": "Python 3",
   "language": "python",
   "name": "python3"
  },
  "language_info": {
   "codemirror_mode": {
    "name": "ipython",
    "version": 3
   },
   "file_extension": ".py",
   "mimetype": "text/x-python",
   "name": "python",
   "nbconvert_exporter": "python",
   "pygments_lexer": "ipython3",
   "version": "3.8.10 (tags/v3.8.10:3d8993a, May  3 2021, 11:48:03) [MSC v.1928 64 bit (AMD64)]"
  },
  "vscode": {
   "interpreter": {
    "hash": "adb1797d200208ed0bc272f73bd68ac667f43ec36fda494da38fde51277876e8"
   }
  }
 },
 "nbformat": 4,
 "nbformat_minor": 2
}
