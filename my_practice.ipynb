{
 "cells": [
  {
   "cell_type": "code",
   "execution_count": 1,
   "metadata": {},
   "outputs": [],
   "source": [
    "import numpy as np\n",
    "import pandas as pd\n",
    "\n",
    "\n",
    "from matplotlib import pyplot as plt\n",
    "%matplotlib inline\n",
    "import seaborn as sns\n",
    "\n",
    "%config InlineBackend.figure_format = 'retina'\n",
    "from pylab import rcParams\n",
    "rcParams['figure.figsize'] = (9, 6)"
   ]
  },
  {
   "cell_type": "code",
   "execution_count": 2,
   "metadata": {},
   "outputs": [],
   "source": [
    "import sklearn "
   ]
  },
  {
   "cell_type": "code",
   "execution_count": 3,
   "metadata": {},
   "outputs": [
    {
     "data": {
      "text/html": [
       "<div>\n",
       "<style scoped>\n",
       "    .dataframe tbody tr th:only-of-type {\n",
       "        vertical-align: middle;\n",
       "    }\n",
       "\n",
       "    .dataframe tbody tr th {\n",
       "        vertical-align: top;\n",
       "    }\n",
       "\n",
       "    .dataframe thead th {\n",
       "        text-align: right;\n",
       "    }\n",
       "</style>\n",
       "<table border=\"1\" class=\"dataframe\">\n",
       "  <thead>\n",
       "    <tr style=\"text-align: right;\">\n",
       "      <th></th>\n",
       "      <th>PassengerId</th>\n",
       "      <th>HomePlanet</th>\n",
       "      <th>CryoSleep</th>\n",
       "      <th>Cabin</th>\n",
       "      <th>Destination</th>\n",
       "      <th>Age</th>\n",
       "      <th>VIP</th>\n",
       "      <th>RoomService</th>\n",
       "      <th>FoodCourt</th>\n",
       "      <th>ShoppingMall</th>\n",
       "      <th>Spa</th>\n",
       "      <th>VRDeck</th>\n",
       "      <th>Name</th>\n",
       "      <th>Transported</th>\n",
       "    </tr>\n",
       "  </thead>\n",
       "  <tbody>\n",
       "    <tr>\n",
       "      <th>0</th>\n",
       "      <td>0001_01</td>\n",
       "      <td>Europa</td>\n",
       "      <td>False</td>\n",
       "      <td>B/0/P</td>\n",
       "      <td>TRAPPIST-1e</td>\n",
       "      <td>39.0</td>\n",
       "      <td>False</td>\n",
       "      <td>0.0</td>\n",
       "      <td>0.0</td>\n",
       "      <td>0.0</td>\n",
       "      <td>0.0</td>\n",
       "      <td>0.0</td>\n",
       "      <td>Maham Ofracculy</td>\n",
       "      <td>False</td>\n",
       "    </tr>\n",
       "    <tr>\n",
       "      <th>1</th>\n",
       "      <td>0002_01</td>\n",
       "      <td>Earth</td>\n",
       "      <td>False</td>\n",
       "      <td>F/0/S</td>\n",
       "      <td>TRAPPIST-1e</td>\n",
       "      <td>24.0</td>\n",
       "      <td>False</td>\n",
       "      <td>109.0</td>\n",
       "      <td>9.0</td>\n",
       "      <td>25.0</td>\n",
       "      <td>549.0</td>\n",
       "      <td>44.0</td>\n",
       "      <td>Juanna Vines</td>\n",
       "      <td>True</td>\n",
       "    </tr>\n",
       "    <tr>\n",
       "      <th>2</th>\n",
       "      <td>0003_01</td>\n",
       "      <td>Europa</td>\n",
       "      <td>False</td>\n",
       "      <td>A/0/S</td>\n",
       "      <td>TRAPPIST-1e</td>\n",
       "      <td>58.0</td>\n",
       "      <td>True</td>\n",
       "      <td>43.0</td>\n",
       "      <td>3576.0</td>\n",
       "      <td>0.0</td>\n",
       "      <td>6715.0</td>\n",
       "      <td>49.0</td>\n",
       "      <td>Altark Susent</td>\n",
       "      <td>False</td>\n",
       "    </tr>\n",
       "    <tr>\n",
       "      <th>3</th>\n",
       "      <td>0003_02</td>\n",
       "      <td>Europa</td>\n",
       "      <td>False</td>\n",
       "      <td>A/0/S</td>\n",
       "      <td>TRAPPIST-1e</td>\n",
       "      <td>33.0</td>\n",
       "      <td>False</td>\n",
       "      <td>0.0</td>\n",
       "      <td>1283.0</td>\n",
       "      <td>371.0</td>\n",
       "      <td>3329.0</td>\n",
       "      <td>193.0</td>\n",
       "      <td>Solam Susent</td>\n",
       "      <td>False</td>\n",
       "    </tr>\n",
       "    <tr>\n",
       "      <th>4</th>\n",
       "      <td>0004_01</td>\n",
       "      <td>Earth</td>\n",
       "      <td>False</td>\n",
       "      <td>F/1/S</td>\n",
       "      <td>TRAPPIST-1e</td>\n",
       "      <td>16.0</td>\n",
       "      <td>False</td>\n",
       "      <td>303.0</td>\n",
       "      <td>70.0</td>\n",
       "      <td>151.0</td>\n",
       "      <td>565.0</td>\n",
       "      <td>2.0</td>\n",
       "      <td>Willy Santantines</td>\n",
       "      <td>True</td>\n",
       "    </tr>\n",
       "  </tbody>\n",
       "</table>\n",
       "</div>"
      ],
      "text/plain": [
       "  PassengerId HomePlanet CryoSleep  Cabin  Destination   Age    VIP  \\\n",
       "0     0001_01     Europa     False  B/0/P  TRAPPIST-1e  39.0  False   \n",
       "1     0002_01      Earth     False  F/0/S  TRAPPIST-1e  24.0  False   \n",
       "2     0003_01     Europa     False  A/0/S  TRAPPIST-1e  58.0   True   \n",
       "3     0003_02     Europa     False  A/0/S  TRAPPIST-1e  33.0  False   \n",
       "4     0004_01      Earth     False  F/1/S  TRAPPIST-1e  16.0  False   \n",
       "\n",
       "   RoomService  FoodCourt  ShoppingMall     Spa  VRDeck               Name  \\\n",
       "0          0.0        0.0           0.0     0.0     0.0    Maham Ofracculy   \n",
       "1        109.0        9.0          25.0   549.0    44.0       Juanna Vines   \n",
       "2         43.0     3576.0           0.0  6715.0    49.0      Altark Susent   \n",
       "3          0.0     1283.0         371.0  3329.0   193.0       Solam Susent   \n",
       "4        303.0       70.0         151.0   565.0     2.0  Willy Santantines   \n",
       "\n",
       "   Transported  \n",
       "0        False  \n",
       "1         True  \n",
       "2        False  \n",
       "3        False  \n",
       "4         True  "
      ]
     },
     "execution_count": 3,
     "metadata": {},
     "output_type": "execute_result"
    }
   ],
   "source": [
    "train=pd.read_csv('D:\\\\DDDrilll\\\\ds3-spring-2018\\\\kaggle\\\\train.csv')\n",
    "test=pd.read_csv('D:\\\\DDDrilll\\\\ds3-spring-2018\\\\kaggle\\\\test.csv')\n",
    "\n",
    "train.head()"
   ]
  },
  {
   "cell_type": "code",
   "execution_count": 4,
   "metadata": {},
   "outputs": [
    {
     "name": "stdout",
     "output_type": "stream",
     "text": [
      "<class 'pandas.core.frame.DataFrame'>\n",
      "RangeIndex: 8693 entries, 0 to 8692\n",
      "Data columns (total 14 columns):\n",
      " #   Column        Non-Null Count  Dtype  \n",
      "---  ------        --------------  -----  \n",
      " 0   PassengerId   8693 non-null   object \n",
      " 1   HomePlanet    8492 non-null   object \n",
      " 2   CryoSleep     8476 non-null   object \n",
      " 3   Cabin         8494 non-null   object \n",
      " 4   Destination   8511 non-null   object \n",
      " 5   Age           8514 non-null   float64\n",
      " 6   VIP           8490 non-null   object \n",
      " 7   RoomService   8512 non-null   float64\n",
      " 8   FoodCourt     8510 non-null   float64\n",
      " 9   ShoppingMall  8485 non-null   float64\n",
      " 10  Spa           8510 non-null   float64\n",
      " 11  VRDeck        8505 non-null   float64\n",
      " 12  Name          8493 non-null   object \n",
      " 13  Transported   8693 non-null   bool   \n",
      "dtypes: bool(1), float64(6), object(7)\n",
      "memory usage: 891.5+ KB\n"
     ]
    }
   ],
   "source": [
    "train.info()"
   ]
  },
  {
   "cell_type": "markdown",
   "metadata": {},
   "source": [
    "рассмотрим в процентном соотношении столбцы train.csv сместо CryoSleep можно вписывать любые другие"
   ]
  },
  {
   "cell_type": "code",
   "execution_count": 5,
   "metadata": {},
   "outputs": [
    {
     "data": {
      "text/plain": [
       "TRAPPIST-1e      0.694983\n",
       "55 Cancri e      0.211491\n",
       "PSO J318.5-22    0.093526\n",
       "Name: Destination, dtype: float64"
      ]
     },
     "execution_count": 5,
     "metadata": {},
     "output_type": "execute_result"
    }
   ],
   "source": [
    "train.Destination.value_counts(normalize=True)"
   ]
  },
  {
   "cell_type": "markdown",
   "metadata": {},
   "source": [
    "### Разделим на датафрейм train на X и Y значения\n",
    "y_train - выжил наш пассажир или нет\n",
    "\n",
    "x_train - свойства, которые влияют на то жив или нет"
   ]
  },
  {
   "cell_type": "markdown",
   "metadata": {},
   "source": [
    "#### Для Y значения \n",
    "Возьмем из train столбец \"Transported\" и переведем в значения \"1\" и \"0\""
   ]
  },
  {
   "cell_type": "code",
   "execution_count": 6,
   "metadata": {},
   "outputs": [
    {
     "data": {
      "text/plain": [
       "0    0\n",
       "1    1\n",
       "2    0\n",
       "3    0\n",
       "4    1\n",
       "Name: Transported, dtype: int64"
      ]
     },
     "execution_count": 6,
     "metadata": {},
     "output_type": "execute_result"
    }
   ],
   "source": [
    "y_train=train['Transported']\n",
    "y_train=y_train.replace({True: 1, False:0})\n",
    "y_train.head()"
   ]
  },
  {
   "cell_type": "code",
   "execution_count": 7,
   "metadata": {},
   "outputs": [
    {
     "data": {
      "text/html": [
       "<div>\n",
       "<style scoped>\n",
       "    .dataframe tbody tr th:only-of-type {\n",
       "        vertical-align: middle;\n",
       "    }\n",
       "\n",
       "    .dataframe tbody tr th {\n",
       "        vertical-align: top;\n",
       "    }\n",
       "\n",
       "    .dataframe thead th {\n",
       "        text-align: right;\n",
       "    }\n",
       "</style>\n",
       "<table border=\"1\" class=\"dataframe\">\n",
       "  <thead>\n",
       "    <tr style=\"text-align: right;\">\n",
       "      <th></th>\n",
       "      <th>PassengerId</th>\n",
       "      <th>HomePlanet</th>\n",
       "      <th>CryoSleep</th>\n",
       "      <th>Cabin</th>\n",
       "      <th>Destination</th>\n",
       "      <th>Age</th>\n",
       "      <th>VIP</th>\n",
       "      <th>RoomService</th>\n",
       "      <th>FoodCourt</th>\n",
       "      <th>ShoppingMall</th>\n",
       "      <th>Spa</th>\n",
       "      <th>VRDeck</th>\n",
       "      <th>Name</th>\n",
       "    </tr>\n",
       "  </thead>\n",
       "  <tbody>\n",
       "    <tr>\n",
       "      <th>0</th>\n",
       "      <td>0001_01</td>\n",
       "      <td>Europa</td>\n",
       "      <td>False</td>\n",
       "      <td>B/0/P</td>\n",
       "      <td>TRAPPIST-1e</td>\n",
       "      <td>39.0</td>\n",
       "      <td>False</td>\n",
       "      <td>0.0</td>\n",
       "      <td>0.0</td>\n",
       "      <td>0.0</td>\n",
       "      <td>0.0</td>\n",
       "      <td>0.0</td>\n",
       "      <td>Maham Ofracculy</td>\n",
       "    </tr>\n",
       "    <tr>\n",
       "      <th>1</th>\n",
       "      <td>0002_01</td>\n",
       "      <td>Earth</td>\n",
       "      <td>False</td>\n",
       "      <td>F/0/S</td>\n",
       "      <td>TRAPPIST-1e</td>\n",
       "      <td>24.0</td>\n",
       "      <td>False</td>\n",
       "      <td>109.0</td>\n",
       "      <td>9.0</td>\n",
       "      <td>25.0</td>\n",
       "      <td>549.0</td>\n",
       "      <td>44.0</td>\n",
       "      <td>Juanna Vines</td>\n",
       "    </tr>\n",
       "    <tr>\n",
       "      <th>2</th>\n",
       "      <td>0003_01</td>\n",
       "      <td>Europa</td>\n",
       "      <td>False</td>\n",
       "      <td>A/0/S</td>\n",
       "      <td>TRAPPIST-1e</td>\n",
       "      <td>58.0</td>\n",
       "      <td>True</td>\n",
       "      <td>43.0</td>\n",
       "      <td>3576.0</td>\n",
       "      <td>0.0</td>\n",
       "      <td>6715.0</td>\n",
       "      <td>49.0</td>\n",
       "      <td>Altark Susent</td>\n",
       "    </tr>\n",
       "    <tr>\n",
       "      <th>3</th>\n",
       "      <td>0003_02</td>\n",
       "      <td>Europa</td>\n",
       "      <td>False</td>\n",
       "      <td>A/0/S</td>\n",
       "      <td>TRAPPIST-1e</td>\n",
       "      <td>33.0</td>\n",
       "      <td>False</td>\n",
       "      <td>0.0</td>\n",
       "      <td>1283.0</td>\n",
       "      <td>371.0</td>\n",
       "      <td>3329.0</td>\n",
       "      <td>193.0</td>\n",
       "      <td>Solam Susent</td>\n",
       "    </tr>\n",
       "    <tr>\n",
       "      <th>4</th>\n",
       "      <td>0004_01</td>\n",
       "      <td>Earth</td>\n",
       "      <td>False</td>\n",
       "      <td>F/1/S</td>\n",
       "      <td>TRAPPIST-1e</td>\n",
       "      <td>16.0</td>\n",
       "      <td>False</td>\n",
       "      <td>303.0</td>\n",
       "      <td>70.0</td>\n",
       "      <td>151.0</td>\n",
       "      <td>565.0</td>\n",
       "      <td>2.0</td>\n",
       "      <td>Willy Santantines</td>\n",
       "    </tr>\n",
       "  </tbody>\n",
       "</table>\n",
       "</div>"
      ],
      "text/plain": [
       "  PassengerId HomePlanet CryoSleep  Cabin  Destination   Age    VIP  \\\n",
       "0     0001_01     Europa     False  B/0/P  TRAPPIST-1e  39.0  False   \n",
       "1     0002_01      Earth     False  F/0/S  TRAPPIST-1e  24.0  False   \n",
       "2     0003_01     Europa     False  A/0/S  TRAPPIST-1e  58.0   True   \n",
       "3     0003_02     Europa     False  A/0/S  TRAPPIST-1e  33.0  False   \n",
       "4     0004_01      Earth     False  F/1/S  TRAPPIST-1e  16.0  False   \n",
       "\n",
       "   RoomService  FoodCourt  ShoppingMall     Spa  VRDeck               Name  \n",
       "0          0.0        0.0           0.0     0.0     0.0    Maham Ofracculy  \n",
       "1        109.0        9.0          25.0   549.0    44.0       Juanna Vines  \n",
       "2         43.0     3576.0           0.0  6715.0    49.0      Altark Susent  \n",
       "3          0.0     1283.0         371.0  3329.0   193.0       Solam Susent  \n",
       "4        303.0       70.0         151.0   565.0     2.0  Willy Santantines  "
      ]
     },
     "execution_count": 7,
     "metadata": {},
     "output_type": "execute_result"
    }
   ],
   "source": [
    "x_train=train.drop(['Transported'], axis=1)\n",
    "# нет необходимости писать Inplace= true и так все сделает\n",
    "# axis - удаляем столбец из фрейма; inplace - говорит, что мы подтверждаем изменения в фрейме\n",
    "x_train.head()"
   ]
  },
  {
   "cell_type": "markdown",
   "metadata": {},
   "source": [
    "#### Предположение первое\n",
    "Предположим, если о статусе VIP не известно, то он его и не имел. Логично предположить, что люди, которые\n",
    "больше заплатили за билет,  будут в приоритете у компании перевозке. Тоже переведем его в \"1\" и \"0\" "
   ]
  },
  {
   "cell_type": "code",
   "execution_count": 8,
   "metadata": {},
   "outputs": [
    {
     "data": {
      "text/html": [
       "<div>\n",
       "<style scoped>\n",
       "    .dataframe tbody tr th:only-of-type {\n",
       "        vertical-align: middle;\n",
       "    }\n",
       "\n",
       "    .dataframe tbody tr th {\n",
       "        vertical-align: top;\n",
       "    }\n",
       "\n",
       "    .dataframe thead th {\n",
       "        text-align: right;\n",
       "    }\n",
       "</style>\n",
       "<table border=\"1\" class=\"dataframe\">\n",
       "  <thead>\n",
       "    <tr style=\"text-align: right;\">\n",
       "      <th></th>\n",
       "      <th>PassengerId</th>\n",
       "      <th>HomePlanet</th>\n",
       "      <th>CryoSleep</th>\n",
       "      <th>Cabin</th>\n",
       "      <th>Destination</th>\n",
       "      <th>Age</th>\n",
       "      <th>VIP</th>\n",
       "      <th>RoomService</th>\n",
       "      <th>FoodCourt</th>\n",
       "      <th>ShoppingMall</th>\n",
       "      <th>Spa</th>\n",
       "      <th>VRDeck</th>\n",
       "      <th>Name</th>\n",
       "    </tr>\n",
       "  </thead>\n",
       "  <tbody>\n",
       "    <tr>\n",
       "      <th>0</th>\n",
       "      <td>0001_01</td>\n",
       "      <td>Europa</td>\n",
       "      <td>False</td>\n",
       "      <td>B/0/P</td>\n",
       "      <td>TRAPPIST-1e</td>\n",
       "      <td>39.0</td>\n",
       "      <td>0.0</td>\n",
       "      <td>0.0</td>\n",
       "      <td>0.0</td>\n",
       "      <td>0.0</td>\n",
       "      <td>0.0</td>\n",
       "      <td>0.0</td>\n",
       "      <td>Maham Ofracculy</td>\n",
       "    </tr>\n",
       "    <tr>\n",
       "      <th>1</th>\n",
       "      <td>0002_01</td>\n",
       "      <td>Earth</td>\n",
       "      <td>False</td>\n",
       "      <td>F/0/S</td>\n",
       "      <td>TRAPPIST-1e</td>\n",
       "      <td>24.0</td>\n",
       "      <td>0.0</td>\n",
       "      <td>109.0</td>\n",
       "      <td>9.0</td>\n",
       "      <td>25.0</td>\n",
       "      <td>549.0</td>\n",
       "      <td>44.0</td>\n",
       "      <td>Juanna Vines</td>\n",
       "    </tr>\n",
       "    <tr>\n",
       "      <th>2</th>\n",
       "      <td>0003_01</td>\n",
       "      <td>Europa</td>\n",
       "      <td>False</td>\n",
       "      <td>A/0/S</td>\n",
       "      <td>TRAPPIST-1e</td>\n",
       "      <td>58.0</td>\n",
       "      <td>1.0</td>\n",
       "      <td>43.0</td>\n",
       "      <td>3576.0</td>\n",
       "      <td>0.0</td>\n",
       "      <td>6715.0</td>\n",
       "      <td>49.0</td>\n",
       "      <td>Altark Susent</td>\n",
       "    </tr>\n",
       "    <tr>\n",
       "      <th>3</th>\n",
       "      <td>0003_02</td>\n",
       "      <td>Europa</td>\n",
       "      <td>False</td>\n",
       "      <td>A/0/S</td>\n",
       "      <td>TRAPPIST-1e</td>\n",
       "      <td>33.0</td>\n",
       "      <td>0.0</td>\n",
       "      <td>0.0</td>\n",
       "      <td>1283.0</td>\n",
       "      <td>371.0</td>\n",
       "      <td>3329.0</td>\n",
       "      <td>193.0</td>\n",
       "      <td>Solam Susent</td>\n",
       "    </tr>\n",
       "    <tr>\n",
       "      <th>4</th>\n",
       "      <td>0004_01</td>\n",
       "      <td>Earth</td>\n",
       "      <td>False</td>\n",
       "      <td>F/1/S</td>\n",
       "      <td>TRAPPIST-1e</td>\n",
       "      <td>16.0</td>\n",
       "      <td>0.0</td>\n",
       "      <td>303.0</td>\n",
       "      <td>70.0</td>\n",
       "      <td>151.0</td>\n",
       "      <td>565.0</td>\n",
       "      <td>2.0</td>\n",
       "      <td>Willy Santantines</td>\n",
       "    </tr>\n",
       "  </tbody>\n",
       "</table>\n",
       "</div>"
      ],
      "text/plain": [
       "  PassengerId HomePlanet CryoSleep  Cabin  Destination   Age  VIP  \\\n",
       "0     0001_01     Europa     False  B/0/P  TRAPPIST-1e  39.0  0.0   \n",
       "1     0002_01      Earth     False  F/0/S  TRAPPIST-1e  24.0  0.0   \n",
       "2     0003_01     Europa     False  A/0/S  TRAPPIST-1e  58.0  1.0   \n",
       "3     0003_02     Europa     False  A/0/S  TRAPPIST-1e  33.0  0.0   \n",
       "4     0004_01      Earth     False  F/1/S  TRAPPIST-1e  16.0  0.0   \n",
       "\n",
       "   RoomService  FoodCourt  ShoppingMall     Spa  VRDeck               Name  \n",
       "0          0.0        0.0           0.0     0.0     0.0    Maham Ofracculy  \n",
       "1        109.0        9.0          25.0   549.0    44.0       Juanna Vines  \n",
       "2         43.0     3576.0           0.0  6715.0    49.0      Altark Susent  \n",
       "3          0.0     1283.0         371.0  3329.0   193.0       Solam Susent  \n",
       "4        303.0       70.0         151.0   565.0     2.0  Willy Santantines  "
      ]
     },
     "execution_count": 8,
     "metadata": {},
     "output_type": "execute_result"
    }
   ],
   "source": [
    "x_train['VIP']=x_train.VIP.replace({ True: 1, False:0})\n",
    "x_train.head()"
   ]
  },
  {
   "cell_type": "code",
   "execution_count": 9,
   "metadata": {},
   "outputs": [],
   "source": [
    "x_train['VIP']=x_train['VIP'].fillna(0)"
   ]
  },
  {
   "cell_type": "markdown",
   "metadata": {},
   "source": [
    "#### Предположение второе\n",
    "посчитамем общее колво потраченных денег пассажиром"
   ]
  },
  {
   "cell_type": "code",
   "execution_count": 10,
   "metadata": {},
   "outputs": [
    {
     "data": {
      "text/html": [
       "<div>\n",
       "<style scoped>\n",
       "    .dataframe tbody tr th:only-of-type {\n",
       "        vertical-align: middle;\n",
       "    }\n",
       "\n",
       "    .dataframe tbody tr th {\n",
       "        vertical-align: top;\n",
       "    }\n",
       "\n",
       "    .dataframe thead th {\n",
       "        text-align: right;\n",
       "    }\n",
       "</style>\n",
       "<table border=\"1\" class=\"dataframe\">\n",
       "  <thead>\n",
       "    <tr style=\"text-align: right;\">\n",
       "      <th></th>\n",
       "      <th>PassengerId</th>\n",
       "      <th>HomePlanet</th>\n",
       "      <th>CryoSleep</th>\n",
       "      <th>Cabin</th>\n",
       "      <th>Destination</th>\n",
       "      <th>Age</th>\n",
       "      <th>VIP</th>\n",
       "      <th>Name</th>\n",
       "      <th>Summary</th>\n",
       "    </tr>\n",
       "  </thead>\n",
       "  <tbody>\n",
       "    <tr>\n",
       "      <th>0</th>\n",
       "      <td>0001_01</td>\n",
       "      <td>Europa</td>\n",
       "      <td>False</td>\n",
       "      <td>B/0/P</td>\n",
       "      <td>TRAPPIST-1e</td>\n",
       "      <td>39.0</td>\n",
       "      <td>0.0</td>\n",
       "      <td>Maham Ofracculy</td>\n",
       "      <td>0.0</td>\n",
       "    </tr>\n",
       "    <tr>\n",
       "      <th>1</th>\n",
       "      <td>0002_01</td>\n",
       "      <td>Earth</td>\n",
       "      <td>False</td>\n",
       "      <td>F/0/S</td>\n",
       "      <td>TRAPPIST-1e</td>\n",
       "      <td>24.0</td>\n",
       "      <td>0.0</td>\n",
       "      <td>Juanna Vines</td>\n",
       "      <td>736.0</td>\n",
       "    </tr>\n",
       "    <tr>\n",
       "      <th>2</th>\n",
       "      <td>0003_01</td>\n",
       "      <td>Europa</td>\n",
       "      <td>False</td>\n",
       "      <td>A/0/S</td>\n",
       "      <td>TRAPPIST-1e</td>\n",
       "      <td>58.0</td>\n",
       "      <td>1.0</td>\n",
       "      <td>Altark Susent</td>\n",
       "      <td>10383.0</td>\n",
       "    </tr>\n",
       "    <tr>\n",
       "      <th>3</th>\n",
       "      <td>0003_02</td>\n",
       "      <td>Europa</td>\n",
       "      <td>False</td>\n",
       "      <td>A/0/S</td>\n",
       "      <td>TRAPPIST-1e</td>\n",
       "      <td>33.0</td>\n",
       "      <td>0.0</td>\n",
       "      <td>Solam Susent</td>\n",
       "      <td>5176.0</td>\n",
       "    </tr>\n",
       "    <tr>\n",
       "      <th>4</th>\n",
       "      <td>0004_01</td>\n",
       "      <td>Earth</td>\n",
       "      <td>False</td>\n",
       "      <td>F/1/S</td>\n",
       "      <td>TRAPPIST-1e</td>\n",
       "      <td>16.0</td>\n",
       "      <td>0.0</td>\n",
       "      <td>Willy Santantines</td>\n",
       "      <td>1091.0</td>\n",
       "    </tr>\n",
       "  </tbody>\n",
       "</table>\n",
       "</div>"
      ],
      "text/plain": [
       "  PassengerId HomePlanet CryoSleep  Cabin  Destination   Age  VIP  \\\n",
       "0     0001_01     Europa     False  B/0/P  TRAPPIST-1e  39.0  0.0   \n",
       "1     0002_01      Earth     False  F/0/S  TRAPPIST-1e  24.0  0.0   \n",
       "2     0003_01     Europa     False  A/0/S  TRAPPIST-1e  58.0  1.0   \n",
       "3     0003_02     Europa     False  A/0/S  TRAPPIST-1e  33.0  0.0   \n",
       "4     0004_01      Earth     False  F/1/S  TRAPPIST-1e  16.0  0.0   \n",
       "\n",
       "                Name  Summary  \n",
       "0    Maham Ofracculy      0.0  \n",
       "1       Juanna Vines    736.0  \n",
       "2      Altark Susent  10383.0  \n",
       "3       Solam Susent   5176.0  \n",
       "4  Willy Santantines   1091.0  "
      ]
     },
     "execution_count": 10,
     "metadata": {},
     "output_type": "execute_result"
    }
   ],
   "source": [
    "x_train['Summary']=x_train[['RoomService', 'FoodCourt','ShoppingMall', 'Spa', 'VRDeck']].sum(axis=1)\n",
    "x_train=x_train.drop(columns=['RoomService', 'FoodCourt','ShoppingMall', 'Spa', 'VRDeck'])\n",
    "x_train.head()"
   ]
  },
  {
   "cell_type": "markdown",
   "metadata": {},
   "source": [
    " \n",
    "Можно было предположить, что на каждые из 5 услуг неопределенные значения заменить на средние.\n",
    "Но это могло привести к тому, что при сложении, общая трата пассажира может необъективно увеличиться.\n",
    "\n",
    "Схуяли?\n",
    "\n",
    "Это мы проверим, но позже."
   ]
  },
  {
   "cell_type": "markdown",
   "metadata": {},
   "source": [
    "Так как, сейчас особо нет дела до имен. Хотя можно выяснить по именам пол пассажира"
   ]
  },
  {
   "cell_type": "code",
   "execution_count": 11,
   "metadata": {},
   "outputs": [],
   "source": [
    "x_train=x_train.drop(columns=['Name'])"
   ]
  },
  {
   "cell_type": "markdown",
   "metadata": {},
   "source": [
    "#### Предположение третье \n",
    "Заполним столбец с возрастом. Неопределенный значения мы заменим средний возраст по столбцу\n",
    "и попробуем сделать разбивку по возрастной категории на \"дети\", \"взрослые\", \"старики\"\n",
    "\n",
    "Дети - до 18 лет\n",
    "\n",
    "Взрослые- с 18 до 60 лет\n",
    "\n",
    "Старики- Старше 60 лет\n",
    "\n"
   ]
  },
  {
   "cell_type": "code",
   "execution_count": 12,
   "metadata": {},
   "outputs": [
    {
     "data": {
      "text/html": [
       "<div>\n",
       "<style scoped>\n",
       "    .dataframe tbody tr th:only-of-type {\n",
       "        vertical-align: middle;\n",
       "    }\n",
       "\n",
       "    .dataframe tbody tr th {\n",
       "        vertical-align: top;\n",
       "    }\n",
       "\n",
       "    .dataframe thead th {\n",
       "        text-align: right;\n",
       "    }\n",
       "</style>\n",
       "<table border=\"1\" class=\"dataframe\">\n",
       "  <thead>\n",
       "    <tr style=\"text-align: right;\">\n",
       "      <th></th>\n",
       "      <th>PassengerId</th>\n",
       "      <th>HomePlanet</th>\n",
       "      <th>CryoSleep</th>\n",
       "      <th>Cabin</th>\n",
       "      <th>Destination</th>\n",
       "      <th>Age</th>\n",
       "      <th>VIP</th>\n",
       "      <th>Summary</th>\n",
       "    </tr>\n",
       "  </thead>\n",
       "  <tbody>\n",
       "    <tr>\n",
       "      <th>0</th>\n",
       "      <td>0001_01</td>\n",
       "      <td>Europa</td>\n",
       "      <td>False</td>\n",
       "      <td>B/0/P</td>\n",
       "      <td>TRAPPIST-1e</td>\n",
       "      <td>39.0</td>\n",
       "      <td>0.0</td>\n",
       "      <td>0.0</td>\n",
       "    </tr>\n",
       "    <tr>\n",
       "      <th>1</th>\n",
       "      <td>0002_01</td>\n",
       "      <td>Earth</td>\n",
       "      <td>False</td>\n",
       "      <td>F/0/S</td>\n",
       "      <td>TRAPPIST-1e</td>\n",
       "      <td>24.0</td>\n",
       "      <td>0.0</td>\n",
       "      <td>736.0</td>\n",
       "    </tr>\n",
       "    <tr>\n",
       "      <th>2</th>\n",
       "      <td>0003_01</td>\n",
       "      <td>Europa</td>\n",
       "      <td>False</td>\n",
       "      <td>A/0/S</td>\n",
       "      <td>TRAPPIST-1e</td>\n",
       "      <td>58.0</td>\n",
       "      <td>1.0</td>\n",
       "      <td>10383.0</td>\n",
       "    </tr>\n",
       "    <tr>\n",
       "      <th>3</th>\n",
       "      <td>0003_02</td>\n",
       "      <td>Europa</td>\n",
       "      <td>False</td>\n",
       "      <td>A/0/S</td>\n",
       "      <td>TRAPPIST-1e</td>\n",
       "      <td>33.0</td>\n",
       "      <td>0.0</td>\n",
       "      <td>5176.0</td>\n",
       "    </tr>\n",
       "    <tr>\n",
       "      <th>4</th>\n",
       "      <td>0004_01</td>\n",
       "      <td>Earth</td>\n",
       "      <td>False</td>\n",
       "      <td>F/1/S</td>\n",
       "      <td>TRAPPIST-1e</td>\n",
       "      <td>16.0</td>\n",
       "      <td>0.0</td>\n",
       "      <td>1091.0</td>\n",
       "    </tr>\n",
       "  </tbody>\n",
       "</table>\n",
       "</div>"
      ],
      "text/plain": [
       "  PassengerId HomePlanet CryoSleep  Cabin  Destination   Age  VIP  Summary\n",
       "0     0001_01     Europa     False  B/0/P  TRAPPIST-1e  39.0  0.0      0.0\n",
       "1     0002_01      Earth     False  F/0/S  TRAPPIST-1e  24.0  0.0    736.0\n",
       "2     0003_01     Europa     False  A/0/S  TRAPPIST-1e  58.0  1.0  10383.0\n",
       "3     0003_02     Europa     False  A/0/S  TRAPPIST-1e  33.0  0.0   5176.0\n",
       "4     0004_01      Earth     False  F/1/S  TRAPPIST-1e  16.0  0.0   1091.0"
      ]
     },
     "execution_count": 12,
     "metadata": {},
     "output_type": "execute_result"
    }
   ],
   "source": [
    "x_train.head()"
   ]
  },
  {
   "cell_type": "code",
   "execution_count": 13,
   "metadata": {},
   "outputs": [],
   "source": [
    "x_train['Age']=x_train['Age'].fillna(x_train['Age'].mean())"
   ]
  },
  {
   "cell_type": "markdown",
   "metadata": {},
   "source": [
    "создадим пустые столбцы с неопределенными значениями"
   ]
  },
  {
   "cell_type": "code",
   "execution_count": 14,
   "metadata": {},
   "outputs": [
    {
     "data": {
      "text/html": [
       "<div>\n",
       "<style scoped>\n",
       "    .dataframe tbody tr th:only-of-type {\n",
       "        vertical-align: middle;\n",
       "    }\n",
       "\n",
       "    .dataframe tbody tr th {\n",
       "        vertical-align: top;\n",
       "    }\n",
       "\n",
       "    .dataframe thead th {\n",
       "        text-align: right;\n",
       "    }\n",
       "</style>\n",
       "<table border=\"1\" class=\"dataframe\">\n",
       "  <thead>\n",
       "    <tr style=\"text-align: right;\">\n",
       "      <th></th>\n",
       "      <th>PassengerId</th>\n",
       "      <th>HomePlanet</th>\n",
       "      <th>CryoSleep</th>\n",
       "      <th>Cabin</th>\n",
       "      <th>Destination</th>\n",
       "      <th>Age</th>\n",
       "      <th>VIP</th>\n",
       "      <th>Summary</th>\n",
       "      <th>Child</th>\n",
       "      <th>Adults</th>\n",
       "      <th>Elder</th>\n",
       "    </tr>\n",
       "  </thead>\n",
       "  <tbody>\n",
       "    <tr>\n",
       "      <th>0</th>\n",
       "      <td>0001_01</td>\n",
       "      <td>Europa</td>\n",
       "      <td>False</td>\n",
       "      <td>B/0/P</td>\n",
       "      <td>TRAPPIST-1e</td>\n",
       "      <td>39.0</td>\n",
       "      <td>0.0</td>\n",
       "      <td>0.0</td>\n",
       "      <td>NaN</td>\n",
       "      <td>NaN</td>\n",
       "      <td>NaN</td>\n",
       "    </tr>\n",
       "    <tr>\n",
       "      <th>1</th>\n",
       "      <td>0002_01</td>\n",
       "      <td>Earth</td>\n",
       "      <td>False</td>\n",
       "      <td>F/0/S</td>\n",
       "      <td>TRAPPIST-1e</td>\n",
       "      <td>24.0</td>\n",
       "      <td>0.0</td>\n",
       "      <td>736.0</td>\n",
       "      <td>NaN</td>\n",
       "      <td>NaN</td>\n",
       "      <td>NaN</td>\n",
       "    </tr>\n",
       "    <tr>\n",
       "      <th>2</th>\n",
       "      <td>0003_01</td>\n",
       "      <td>Europa</td>\n",
       "      <td>False</td>\n",
       "      <td>A/0/S</td>\n",
       "      <td>TRAPPIST-1e</td>\n",
       "      <td>58.0</td>\n",
       "      <td>1.0</td>\n",
       "      <td>10383.0</td>\n",
       "      <td>NaN</td>\n",
       "      <td>NaN</td>\n",
       "      <td>NaN</td>\n",
       "    </tr>\n",
       "    <tr>\n",
       "      <th>3</th>\n",
       "      <td>0003_02</td>\n",
       "      <td>Europa</td>\n",
       "      <td>False</td>\n",
       "      <td>A/0/S</td>\n",
       "      <td>TRAPPIST-1e</td>\n",
       "      <td>33.0</td>\n",
       "      <td>0.0</td>\n",
       "      <td>5176.0</td>\n",
       "      <td>NaN</td>\n",
       "      <td>NaN</td>\n",
       "      <td>NaN</td>\n",
       "    </tr>\n",
       "    <tr>\n",
       "      <th>4</th>\n",
       "      <td>0004_01</td>\n",
       "      <td>Earth</td>\n",
       "      <td>False</td>\n",
       "      <td>F/1/S</td>\n",
       "      <td>TRAPPIST-1e</td>\n",
       "      <td>16.0</td>\n",
       "      <td>0.0</td>\n",
       "      <td>1091.0</td>\n",
       "      <td>NaN</td>\n",
       "      <td>NaN</td>\n",
       "      <td>NaN</td>\n",
       "    </tr>\n",
       "  </tbody>\n",
       "</table>\n",
       "</div>"
      ],
      "text/plain": [
       "  PassengerId HomePlanet CryoSleep  Cabin  Destination   Age  VIP  Summary  \\\n",
       "0     0001_01     Europa     False  B/0/P  TRAPPIST-1e  39.0  0.0      0.0   \n",
       "1     0002_01      Earth     False  F/0/S  TRAPPIST-1e  24.0  0.0    736.0   \n",
       "2     0003_01     Europa     False  A/0/S  TRAPPIST-1e  58.0  1.0  10383.0   \n",
       "3     0003_02     Europa     False  A/0/S  TRAPPIST-1e  33.0  0.0   5176.0   \n",
       "4     0004_01      Earth     False  F/1/S  TRAPPIST-1e  16.0  0.0   1091.0   \n",
       "\n",
       "   Child  Adults  Elder  \n",
       "0    NaN     NaN    NaN  \n",
       "1    NaN     NaN    NaN  \n",
       "2    NaN     NaN    NaN  \n",
       "3    NaN     NaN    NaN  \n",
       "4    NaN     NaN    NaN  "
      ]
     },
     "execution_count": 14,
     "metadata": {},
     "output_type": "execute_result"
    }
   ],
   "source": [
    "x_train['Child']=np.nan\n",
    "x_train['Adults']=np.nan\n",
    "x_train['Elder']=np.nan\n",
    "x_train.head()"
   ]
  },
  {
   "cell_type": "markdown",
   "metadata": {},
   "source": [
    "Напишем функцию, которая определит кто есть кто"
   ]
  },
  {
   "cell_type": "markdown",
   "metadata": {},
   "source": [
    "### Для тебя \n",
    "в \"age_class(x)\"  x- это аргумент которым мы будем пользоваться в структуре функции  \n",
    "\"return\" возвращает значение нашей функции после преобразований внутри\n",
    "\n",
    "\"apply\" работает очень просто  \n",
    "В нее мы передаем нашу функцию и привязываем к столбцу\n"
   ]
  },
  {
   "cell_type": "code",
   "execution_count": 15,
   "metadata": {},
   "outputs": [],
   "source": [
    "def class_child (x):\n",
    "    '''Функция выполняет распределение по возрасту пассажиров'''\n",
    "    if x<18:\n",
    "        return 1\n",
    "    else:\n",
    "        return 0\n",
    "\n",
    "def class_adults (x):\n",
    "    '''Функция выполняет распределение по возрасту пассажиров'''\n",
    "    if 18<=x<=60:\n",
    "        return 1\n",
    "    else:\n",
    "        return 0\n",
    "\n",
    "def class_elder (x):\n",
    "    '''Функция выполняет распределение по возрасту пассажиров'''\n",
    "    if x>60:\n",
    "        return 1\n",
    "    else:\n",
    "        return 0\n"
   ]
  },
  {
   "cell_type": "code",
   "execution_count": 16,
   "metadata": {},
   "outputs": [
    {
     "data": {
      "text/html": [
       "<div>\n",
       "<style scoped>\n",
       "    .dataframe tbody tr th:only-of-type {\n",
       "        vertical-align: middle;\n",
       "    }\n",
       "\n",
       "    .dataframe tbody tr th {\n",
       "        vertical-align: top;\n",
       "    }\n",
       "\n",
       "    .dataframe thead th {\n",
       "        text-align: right;\n",
       "    }\n",
       "</style>\n",
       "<table border=\"1\" class=\"dataframe\">\n",
       "  <thead>\n",
       "    <tr style=\"text-align: right;\">\n",
       "      <th></th>\n",
       "      <th>PassengerId</th>\n",
       "      <th>HomePlanet</th>\n",
       "      <th>CryoSleep</th>\n",
       "      <th>Cabin</th>\n",
       "      <th>Destination</th>\n",
       "      <th>Age</th>\n",
       "      <th>VIP</th>\n",
       "      <th>Summary</th>\n",
       "      <th>Child</th>\n",
       "      <th>Adults</th>\n",
       "      <th>Elder</th>\n",
       "    </tr>\n",
       "  </thead>\n",
       "  <tbody>\n",
       "    <tr>\n",
       "      <th>0</th>\n",
       "      <td>0001_01</td>\n",
       "      <td>Europa</td>\n",
       "      <td>False</td>\n",
       "      <td>B/0/P</td>\n",
       "      <td>TRAPPIST-1e</td>\n",
       "      <td>39.0</td>\n",
       "      <td>0.0</td>\n",
       "      <td>0.0</td>\n",
       "      <td>0</td>\n",
       "      <td>1</td>\n",
       "      <td>0</td>\n",
       "    </tr>\n",
       "    <tr>\n",
       "      <th>1</th>\n",
       "      <td>0002_01</td>\n",
       "      <td>Earth</td>\n",
       "      <td>False</td>\n",
       "      <td>F/0/S</td>\n",
       "      <td>TRAPPIST-1e</td>\n",
       "      <td>24.0</td>\n",
       "      <td>0.0</td>\n",
       "      <td>736.0</td>\n",
       "      <td>0</td>\n",
       "      <td>1</td>\n",
       "      <td>0</td>\n",
       "    </tr>\n",
       "    <tr>\n",
       "      <th>2</th>\n",
       "      <td>0003_01</td>\n",
       "      <td>Europa</td>\n",
       "      <td>False</td>\n",
       "      <td>A/0/S</td>\n",
       "      <td>TRAPPIST-1e</td>\n",
       "      <td>58.0</td>\n",
       "      <td>1.0</td>\n",
       "      <td>10383.0</td>\n",
       "      <td>0</td>\n",
       "      <td>1</td>\n",
       "      <td>0</td>\n",
       "    </tr>\n",
       "    <tr>\n",
       "      <th>3</th>\n",
       "      <td>0003_02</td>\n",
       "      <td>Europa</td>\n",
       "      <td>False</td>\n",
       "      <td>A/0/S</td>\n",
       "      <td>TRAPPIST-1e</td>\n",
       "      <td>33.0</td>\n",
       "      <td>0.0</td>\n",
       "      <td>5176.0</td>\n",
       "      <td>0</td>\n",
       "      <td>1</td>\n",
       "      <td>0</td>\n",
       "    </tr>\n",
       "    <tr>\n",
       "      <th>4</th>\n",
       "      <td>0004_01</td>\n",
       "      <td>Earth</td>\n",
       "      <td>False</td>\n",
       "      <td>F/1/S</td>\n",
       "      <td>TRAPPIST-1e</td>\n",
       "      <td>16.0</td>\n",
       "      <td>0.0</td>\n",
       "      <td>1091.0</td>\n",
       "      <td>1</td>\n",
       "      <td>0</td>\n",
       "      <td>0</td>\n",
       "    </tr>\n",
       "  </tbody>\n",
       "</table>\n",
       "</div>"
      ],
      "text/plain": [
       "  PassengerId HomePlanet CryoSleep  Cabin  Destination   Age  VIP  Summary  \\\n",
       "0     0001_01     Europa     False  B/0/P  TRAPPIST-1e  39.0  0.0      0.0   \n",
       "1     0002_01      Earth     False  F/0/S  TRAPPIST-1e  24.0  0.0    736.0   \n",
       "2     0003_01     Europa     False  A/0/S  TRAPPIST-1e  58.0  1.0  10383.0   \n",
       "3     0003_02     Europa     False  A/0/S  TRAPPIST-1e  33.0  0.0   5176.0   \n",
       "4     0004_01      Earth     False  F/1/S  TRAPPIST-1e  16.0  0.0   1091.0   \n",
       "\n",
       "   Child  Adults  Elder  \n",
       "0      0       1      0  \n",
       "1      0       1      0  \n",
       "2      0       1      0  \n",
       "3      0       1      0  \n",
       "4      1       0      0  "
      ]
     },
     "execution_count": 16,
     "metadata": {},
     "output_type": "execute_result"
    }
   ],
   "source": [
    "# apply применяет написанную или существующую функцию к dataframe\n",
    "x_train['Child']=x_train['Age'].apply(class_child)\n",
    "x_train['Adults']=x_train['Age'].apply(class_adults)\n",
    "x_train['Elder']=x_train['Age'].apply(class_elder)\n",
    "#x_train=x_train.drop(columns=['Age'])\n",
    "x_train.head()\n"
   ]
  },
  {
   "cell_type": "markdown",
   "metadata": {},
   "source": [
    "### Предположение 4  \n",
    "Разберемся с криосном. Они не двигаються когда спят следовательно шансы спастись меньше"
   ]
  },
  {
   "cell_type": "code",
   "execution_count": 17,
   "metadata": {},
   "outputs": [
    {
     "data": {
      "text/html": [
       "<div>\n",
       "<style scoped>\n",
       "    .dataframe tbody tr th:only-of-type {\n",
       "        vertical-align: middle;\n",
       "    }\n",
       "\n",
       "    .dataframe tbody tr th {\n",
       "        vertical-align: top;\n",
       "    }\n",
       "\n",
       "    .dataframe thead th {\n",
       "        text-align: right;\n",
       "    }\n",
       "</style>\n",
       "<table border=\"1\" class=\"dataframe\">\n",
       "  <thead>\n",
       "    <tr style=\"text-align: right;\">\n",
       "      <th></th>\n",
       "      <th>PassengerId</th>\n",
       "      <th>HomePlanet</th>\n",
       "      <th>CryoSleep</th>\n",
       "      <th>Cabin</th>\n",
       "      <th>Destination</th>\n",
       "      <th>Age</th>\n",
       "      <th>VIP</th>\n",
       "      <th>Summary</th>\n",
       "      <th>Child</th>\n",
       "      <th>Adults</th>\n",
       "      <th>Elder</th>\n",
       "    </tr>\n",
       "  </thead>\n",
       "  <tbody>\n",
       "    <tr>\n",
       "      <th>0</th>\n",
       "      <td>0001_01</td>\n",
       "      <td>Europa</td>\n",
       "      <td>0.0</td>\n",
       "      <td>B/0/P</td>\n",
       "      <td>TRAPPIST-1e</td>\n",
       "      <td>39.0</td>\n",
       "      <td>0.0</td>\n",
       "      <td>0.0</td>\n",
       "      <td>0</td>\n",
       "      <td>1</td>\n",
       "      <td>0</td>\n",
       "    </tr>\n",
       "    <tr>\n",
       "      <th>1</th>\n",
       "      <td>0002_01</td>\n",
       "      <td>Earth</td>\n",
       "      <td>0.0</td>\n",
       "      <td>F/0/S</td>\n",
       "      <td>TRAPPIST-1e</td>\n",
       "      <td>24.0</td>\n",
       "      <td>0.0</td>\n",
       "      <td>736.0</td>\n",
       "      <td>0</td>\n",
       "      <td>1</td>\n",
       "      <td>0</td>\n",
       "    </tr>\n",
       "    <tr>\n",
       "      <th>2</th>\n",
       "      <td>0003_01</td>\n",
       "      <td>Europa</td>\n",
       "      <td>0.0</td>\n",
       "      <td>A/0/S</td>\n",
       "      <td>TRAPPIST-1e</td>\n",
       "      <td>58.0</td>\n",
       "      <td>1.0</td>\n",
       "      <td>10383.0</td>\n",
       "      <td>0</td>\n",
       "      <td>1</td>\n",
       "      <td>0</td>\n",
       "    </tr>\n",
       "    <tr>\n",
       "      <th>3</th>\n",
       "      <td>0003_02</td>\n",
       "      <td>Europa</td>\n",
       "      <td>0.0</td>\n",
       "      <td>A/0/S</td>\n",
       "      <td>TRAPPIST-1e</td>\n",
       "      <td>33.0</td>\n",
       "      <td>0.0</td>\n",
       "      <td>5176.0</td>\n",
       "      <td>0</td>\n",
       "      <td>1</td>\n",
       "      <td>0</td>\n",
       "    </tr>\n",
       "    <tr>\n",
       "      <th>4</th>\n",
       "      <td>0004_01</td>\n",
       "      <td>Earth</td>\n",
       "      <td>0.0</td>\n",
       "      <td>F/1/S</td>\n",
       "      <td>TRAPPIST-1e</td>\n",
       "      <td>16.0</td>\n",
       "      <td>0.0</td>\n",
       "      <td>1091.0</td>\n",
       "      <td>1</td>\n",
       "      <td>0</td>\n",
       "      <td>0</td>\n",
       "    </tr>\n",
       "    <tr>\n",
       "      <th>5</th>\n",
       "      <td>0005_01</td>\n",
       "      <td>Earth</td>\n",
       "      <td>0.0</td>\n",
       "      <td>F/0/P</td>\n",
       "      <td>PSO J318.5-22</td>\n",
       "      <td>44.0</td>\n",
       "      <td>0.0</td>\n",
       "      <td>774.0</td>\n",
       "      <td>0</td>\n",
       "      <td>1</td>\n",
       "      <td>0</td>\n",
       "    </tr>\n",
       "    <tr>\n",
       "      <th>6</th>\n",
       "      <td>0006_01</td>\n",
       "      <td>Earth</td>\n",
       "      <td>0.0</td>\n",
       "      <td>F/2/S</td>\n",
       "      <td>TRAPPIST-1e</td>\n",
       "      <td>26.0</td>\n",
       "      <td>0.0</td>\n",
       "      <td>1584.0</td>\n",
       "      <td>0</td>\n",
       "      <td>1</td>\n",
       "      <td>0</td>\n",
       "    </tr>\n",
       "    <tr>\n",
       "      <th>7</th>\n",
       "      <td>0006_02</td>\n",
       "      <td>Earth</td>\n",
       "      <td>1.0</td>\n",
       "      <td>G/0/S</td>\n",
       "      <td>TRAPPIST-1e</td>\n",
       "      <td>28.0</td>\n",
       "      <td>0.0</td>\n",
       "      <td>0.0</td>\n",
       "      <td>0</td>\n",
       "      <td>1</td>\n",
       "      <td>0</td>\n",
       "    </tr>\n",
       "    <tr>\n",
       "      <th>8</th>\n",
       "      <td>0007_01</td>\n",
       "      <td>Earth</td>\n",
       "      <td>0.0</td>\n",
       "      <td>F/3/S</td>\n",
       "      <td>TRAPPIST-1e</td>\n",
       "      <td>35.0</td>\n",
       "      <td>0.0</td>\n",
       "      <td>1018.0</td>\n",
       "      <td>0</td>\n",
       "      <td>1</td>\n",
       "      <td>0</td>\n",
       "    </tr>\n",
       "    <tr>\n",
       "      <th>9</th>\n",
       "      <td>0008_01</td>\n",
       "      <td>Europa</td>\n",
       "      <td>1.0</td>\n",
       "      <td>B/1/P</td>\n",
       "      <td>55 Cancri e</td>\n",
       "      <td>14.0</td>\n",
       "      <td>0.0</td>\n",
       "      <td>0.0</td>\n",
       "      <td>1</td>\n",
       "      <td>0</td>\n",
       "      <td>0</td>\n",
       "    </tr>\n",
       "  </tbody>\n",
       "</table>\n",
       "</div>"
      ],
      "text/plain": [
       "  PassengerId HomePlanet  CryoSleep  Cabin    Destination   Age  VIP  Summary  \\\n",
       "0     0001_01     Europa        0.0  B/0/P    TRAPPIST-1e  39.0  0.0      0.0   \n",
       "1     0002_01      Earth        0.0  F/0/S    TRAPPIST-1e  24.0  0.0    736.0   \n",
       "2     0003_01     Europa        0.0  A/0/S    TRAPPIST-1e  58.0  1.0  10383.0   \n",
       "3     0003_02     Europa        0.0  A/0/S    TRAPPIST-1e  33.0  0.0   5176.0   \n",
       "4     0004_01      Earth        0.0  F/1/S    TRAPPIST-1e  16.0  0.0   1091.0   \n",
       "5     0005_01      Earth        0.0  F/0/P  PSO J318.5-22  44.0  0.0    774.0   \n",
       "6     0006_01      Earth        0.0  F/2/S    TRAPPIST-1e  26.0  0.0   1584.0   \n",
       "7     0006_02      Earth        1.0  G/0/S    TRAPPIST-1e  28.0  0.0      0.0   \n",
       "8     0007_01      Earth        0.0  F/3/S    TRAPPIST-1e  35.0  0.0   1018.0   \n",
       "9     0008_01     Europa        1.0  B/1/P    55 Cancri e  14.0  0.0      0.0   \n",
       "\n",
       "   Child  Adults  Elder  \n",
       "0      0       1      0  \n",
       "1      0       1      0  \n",
       "2      0       1      0  \n",
       "3      0       1      0  \n",
       "4      1       0      0  \n",
       "5      0       1      0  \n",
       "6      0       1      0  \n",
       "7      0       1      0  \n",
       "8      0       1      0  \n",
       "9      1       0      0  "
      ]
     },
     "execution_count": 17,
     "metadata": {},
     "output_type": "execute_result"
    }
   ],
   "source": [
    "x_train['CryoSleep']=x_train.CryoSleep.replace({ True: 1, False:0})\n",
    "x_train['CryoSleep']=x_train['CryoSleep'].fillna(0)\n",
    "x_train.head(10)\n"
   ]
  },
  {
   "cell_type": "markdown",
   "metadata": {},
   "source": [
    "## Мне пришла гениальная идея разобрать столбец с информацией о номере пассажира\n",
    "\n",
    "Вычленим первые и последние буквы из номеров кабин. Также внесем и информацию а цифре   \n",
    "Предположение такое, если мы разберемся с тем какая из частей сильней подверглась переносу, то можно эту информацию можно будет использовать в дальнейшем  \n",
    "Начнем с первой буквы"
   ]
  },
  {
   "cell_type": "code",
   "execution_count": 18,
   "metadata": {},
   "outputs": [],
   "source": [
    "import re\n",
    "\n",
    "'''Создаем список для дальнейшей обработки нашего столбца Cabin'''\n",
    "\n",
    "cabin_q=x_train['Cabin'].to_list()\n",
    "\n",
    "'''Далее нам понадобиться пустой список, чтоб вносить туда значения '''\n",
    "first_litter=[] \n",
    "\n",
    "for i in cabin_q:\n",
    "    '''Патерн который ищет первые буквы номера кабины и добавляет его в пустой список'''\n",
    "    litter_0=re.findall('^.',str(i))\n",
    "    first_litter.extend(litter_0)  # extend имнно расширяет список а не прибавляет элемент"
   ]
  },
  {
   "cell_type": "markdown",
   "metadata": {},
   "source": [
    "Создадим список уникальных значений а также посчитаем их колличество"
   ]
  },
  {
   "cell_type": "code",
   "execution_count": 19,
   "metadata": {},
   "outputs": [
    {
     "name": "stdout",
     "output_type": "stream",
     "text": [
      "['A', 'B', 'C', 'D', 'E', 'F', 'G', 'T', 'n']\n"
     ]
    }
   ],
   "source": [
    "uniq_1=[]\n",
    "\n",
    "for i in first_litter:\n",
    "    \n",
    "    if i not in uniq_1:\n",
    "        uniq_1.extend(i)\n",
    "    else:\n",
    "        continue\n",
    "\n",
    "'''Сразу отсортируем список чтобы легче было работать'''\n",
    "uniq_1=sorted(uniq_1, reverse=False)\n",
    "print(uniq_1)"
   ]
  },
  {
   "cell_type": "markdown",
   "metadata": {},
   "source": [
    "Посчитаем колличество вхождений каждой из букв"
   ]
  },
  {
   "cell_type": "code",
   "execution_count": 20,
   "metadata": {},
   "outputs": [
    {
     "name": "stdout",
     "output_type": "stream",
     "text": [
      "[256, 779, 747, 478, 876, 2794, 2559, 5, 199]\n"
     ]
    }
   ],
   "source": [
    "quantity_1=[]\n",
    "for i in uniq_1:\n",
    "    c=0\n",
    "    for j in first_litter:\n",
    "        if i==j:\n",
    "            c+=1\n",
    "        else:\n",
    "            continue\n",
    "    quantity_1.append(c) # append ичпользкеться с числами а extend лучше со строками\n",
    "print(quantity_1)"
   ]
  },
  {
   "cell_type": "markdown",
   "metadata": {},
   "source": [
    "Построим график распредеения "
   ]
  },
  {
   "cell_type": "code",
   "execution_count": 21,
   "metadata": {},
   "outputs": [
    {
     "data": {
      "text/plain": [
       "Text(0, 0.5, 'Quantity')"
      ]
     },
     "execution_count": 21,
     "metadata": {},
     "output_type": "execute_result"
    },
    {
     "data": {
      "image/png": "[encoded data removed]",
      "text/plain": [
       "<Figure size 900x600 with 1 Axes>"
      ]
     },
     "metadata": {
      "image/png": {
       "height": 546,
       "width": 782
      }
     },
     "output_type": "display_data"
    }
   ],
   "source": [
    "plt.bar(uniq_1,quantity_1)\n",
    "plt.title('Distribution by cabin classes')\n",
    "plt.xlabel('Class of cabin')\n",
    "plt.ylabel('Quantity')\n"
   ]
  },
  {
   "cell_type": "markdown",
   "metadata": {},
   "source": [
    "Видно , что больше всего сосредоточено на палубе 'F' и 'G' а на остальных меньше  \n",
    "Также вычленим и прербразуем последнее значение ноиере кабины. Оно отвечает за то на какой стороне корабля нахдиться комната"
   ]
  },
  {
   "cell_type": "code",
   "execution_count": 22,
   "metadata": {},
   "outputs": [],
   "source": [
    "import re\n",
    "\n",
    "'''Далее нам понадобиться пустой список, чтоб вносить туда значения '''\n",
    "last_litter=[] \n",
    "\n",
    "for i in cabin_q:\n",
    "    '''Патерн который ищет последние буквы номера кабины и добавляет его в пустой список'''\n",
    "    litter_1=re.findall('.$',str(i))\n",
    "    last_litter.extend(litter_1)  # extend имнно расширяет список а не прибавляет элемент"
   ]
  },
  {
   "cell_type": "markdown",
   "metadata": {},
   "source": [
    "Отработаем с числами в номере. Выделим цифры и также посчитаем вхождение каждой из них. Построим график"
   ]
  },
  {
   "cell_type": "code",
   "execution_count": 23,
   "metadata": {},
   "outputs": [],
   "source": [
    "import re\n",
    "\n",
    "'''Далее нам понадобиться пустой список, чтоб вносить туда значения '''\n",
    "room_number=[] \n",
    "\n",
    "for i in cabin_q:\n",
    "    '''Патерн который ищет цифры в номере кабины и добавляет его в пустой список'''\n",
    "    num=re.findall('(\\d+)|(\\w\\w\\w)',str(i)) # также учитываем NaN или список сдвинеться \n",
    "    room_number.extend(num)  # extend имнно расширяет список а не прибавляет элемент\n"
   ]
  },
  {
   "cell_type": "code",
   "execution_count": 24,
   "metadata": {},
   "outputs": [
    {
     "name": "stdout",
     "output_type": "stream",
     "text": [
      "['', '', '', '', '', '', '', '', '', '', '', '', '', '', '', '', '', '', '', '', '', '', '', '', '', '', '', '', '', '', '', '', '', '', '', '', '', '', '', '', '', '', '', '', '', '', '', '', '', '', '', '', '', '', '', '', '', '', '', '', '', '', '', '', '', '', '', '', '', '', '', '', '', '', '', '', '', '', '', '', '', '', '', '', '', '', '', '', '', '', '', '', '', '', '', '', '', '', '', '', '', '', '', '', '', '', '', '', '', '', '', '', '', '', '', '', '', '', '', '', '', '', '', '', '', '', '', '', '', '', '', '', '', '', '', '', '', '', '', '', '', '', '', '', '', '', '', '', '', '', '', '', '', '', '', '', '', '', '', '', '', '', '', '', '', '', '', '', '', '', '', '', '', '', '', '', '', '', '', '', '', '', '', '', '', '', '', '', '', '', '', '', '', '', '', '', '', '', '']\n"
     ]
    }
   ],
   "source": [
    "uniq_n=[]\n",
    "\n",
    "for i in range (0,len(room_number)):\n",
    "    for j in range (0,1):\n",
    "    \n",
    "        if room_number[i][j]=='':\n",
    "            uniq_n.append(room_number[i][j])\n",
    "        elif room_number[i][j]=='nan':\n",
    "            uniq_n.append(room_number[i][j])\n",
    "\n",
    "'''Сразу отсортируем список чтобы легче было работать'''\n",
    "uniq_n=sorted(uniq_n, reverse=False)\n",
    "print(uniq_n)"
   ]
  },
  {
   "cell_type": "code",
   "execution_count": 25,
   "metadata": {},
   "outputs": [
    {
     "name": "stdout",
     "output_type": "stream",
     "text": [
      "[(('', 'nan'), 199), (('82', ''), 28), (('19', ''), 22), (('86', ''), 22), (('56', ''), 21), (('97', ''), 21), (('176', ''), 21), (('230', ''), 20), (('65', ''), 19), (('109', ''), 19)]\n"
     ]
    }
   ],
   "source": [
    "from collections import Counter\n",
    "value_counts=Counter(room_number)\n",
    "print(value_counts.most_common(10))"
   ]
  },
  {
   "cell_type": "markdown",
   "metadata": {},
   "source": [
    "Если посмотреть ена вывод \"Counter\" то можно увидеть , что максимальное значение это неопределенное.  \n",
    "Численные значения не превосходят 30. Может и есть зависимость- с подъемом изменяються и числа, но пока без этого"
   ]
  },
  {
   "cell_type": "markdown",
   "metadata": {},
   "source": [
    "Преобразуем наши данный в DataFrame для дальнейшего анализа"
   ]
  },
  {
   "cell_type": "code",
   "execution_count": 26,
   "metadata": {},
   "outputs": [],
   "source": [
    "cabin_class=pd.DataFrame(data={\n",
    "        'First litter': first_litter,\n",
    "        'Last litter': last_litter,\n",
    "        'Cryosleep': x_train['CryoSleep'],\n",
    "        'Vip' : x_train['VIP'],\n",
    "        'Home planet': x_train['HomePlanet'],\n",
    "        'Adults': x_train['Adults'],\n",
    "        'Elder': x_train['Elder'],\n",
    "        'Child': x_train['Child']\n",
    "    }\n",
    "    )"
   ]
  },
  {
   "cell_type": "markdown",
   "metadata": {},
   "source": [
    "Так как я сразу не обработал неопределенные данные, то сейчас это и сделаем  \n",
    "Заменим неопределенные значения первой буквы на 'F', как на среднее. Неопределенные значения последней буквы, я удалил, как по мне 2 % не будут сильно влиять на выборку"
   ]
  },
  {
   "cell_type": "code",
   "execution_count": 27,
   "metadata": {},
   "outputs": [
    {
     "name": "stdout",
     "output_type": "stream",
     "text": [
      "<class 'pandas.core.series.Series'>\n",
      "RangeIndex: 8693 entries, 0 to 8692\n",
      "Series name: HomePlanet\n",
      "Non-Null Count  Dtype \n",
      "--------------  ----- \n",
      "8492 non-null   object\n",
      "dtypes: object(1)\n",
      "memory usage: 68.0+ KB\n"
     ]
    },
    {
     "data": {
      "text/plain": [
       "Counter({'Europa': 2131, 'Earth': 4602, 'Mars': 1759, nan: 201})"
      ]
     },
     "execution_count": 27,
     "metadata": {},
     "output_type": "execute_result"
    }
   ],
   "source": [
    "x_train['HomePlanet'].info()\n",
    "Counter(x_train['HomePlanet'])"
   ]
  },
  {
   "cell_type": "markdown",
   "metadata": {},
   "source": [
    "Логично также прибавить неопределенные значения к самой встречающейся планете"
   ]
  },
  {
   "cell_type": "code",
   "execution_count": 28,
   "metadata": {},
   "outputs": [],
   "source": [
    "cabin_class=pd.get_dummies(cabin_class,columns=['First litter', 'Last litter','Home planet'])\n",
    "\n",
    "cabin_class.loc[cabin_class['First litter_n']==1,'First litter_F']=1\n",
    "cabin_class=cabin_class.drop(columns=['First litter_n'])\n",
    "\n",
    "# Может потом получиться отработать с неопределенными значениями борта \n",
    "cabin_class=cabin_class.drop(columns=['Last litter_n'])"
   ]
  },
  {
   "cell_type": "markdown",
   "metadata": {},
   "source": [
    "преобразуем в единый формат данных"
   ]
  },
  {
   "cell_type": "code",
   "execution_count": 29,
   "metadata": {},
   "outputs": [
    {
     "name": "stdout",
     "output_type": "stream",
     "text": [
      "<class 'pandas.core.frame.DataFrame'>\n",
      "RangeIndex: 8693 entries, 0 to 8692\n",
      "Data columns (total 18 columns):\n",
      " #   Column              Non-Null Count  Dtype\n",
      "---  ------              --------------  -----\n",
      " 0   Cryosleep           8693 non-null   uint8\n",
      " 1   Vip                 8693 non-null   uint8\n",
      " 2   Adults              8693 non-null   uint8\n",
      " 3   Elder               8693 non-null   uint8\n",
      " 4   Child               8693 non-null   uint8\n",
      " 5   First litter_A      8693 non-null   uint8\n",
      " 6   First litter_B      8693 non-null   uint8\n",
      " 7   First litter_C      8693 non-null   uint8\n",
      " 8   First litter_D      8693 non-null   uint8\n",
      " 9   First litter_E      8693 non-null   uint8\n",
      " 10  First litter_F      8693 non-null   uint8\n",
      " 11  First litter_G      8693 non-null   uint8\n",
      " 12  First litter_T      8693 non-null   uint8\n",
      " 13  Last litter_P       8693 non-null   uint8\n",
      " 14  Last litter_S       8693 non-null   uint8\n",
      " 15  Home planet_Earth   8693 non-null   uint8\n",
      " 16  Home planet_Europa  8693 non-null   uint8\n",
      " 17  Home planet_Mars    8693 non-null   uint8\n",
      "dtypes: uint8(18)\n",
      "memory usage: 152.9 KB\n"
     ]
    }
   ],
   "source": [
    "cabin_class['Cryosleep']=cabin_class['Cryosleep'].astype(np.uint8)\n",
    "cabin_class['Vip']=cabin_class['Vip'].astype(np.uint8)\n",
    "cabin_class['Adults']=cabin_class['Adults'].astype(np.uint8)\n",
    "cabin_class['Child']=cabin_class['Child'].astype(np.uint8)\n",
    "cabin_class['Elder']=cabin_class['Elder'].astype(np.uint8)\n",
    "cabin_class.info()"
   ]
  },
  {
   "cell_type": "markdown",
   "metadata": {},
   "source": [
    "### Попробуем создать древо решений"
   ]
  },
  {
   "cell_type": "markdown",
   "metadata": {},
   "source": [
    "Это поможет определить какие из фичей нам наиболее важны для дальнейшей работы с данными. Будем использовать наш \"cabin_class\" и добавим его в наш о сновной фрейм.\n"
   ]
  },
  {
   "cell_type": "code",
   "execution_count": 30,
   "metadata": {},
   "outputs": [],
   "source": [
    "from sklearn.tree import DecisionTreeClassifier\n",
    "clf = DecisionTreeClassifier(max_depth=3)"
   ]
  },
  {
   "cell_type": "code",
   "execution_count": 31,
   "metadata": {},
   "outputs": [
    {
     "data": {
      "text/html": [
       "<style>#sk-container-id-1 {color: black;background-color: white;}#sk-container-id-1 pre{padding: 0;}#sk-container-id-1 div.sk-toggleable {background-color: white;}#sk-container-id-1 label.sk-toggleable__label {cursor: pointer;display: block;width: 100%;margin-bottom: 0;padding: 0.3em;box-sizing: border-box;text-align: center;}#sk-container-id-1 label.sk-toggleable__label-arrow:before {content: \"▸\";float: left;margin-right: 0.25em;color: #696969;}#sk-container-id-1 label.sk-toggleable__label-arrow:hover:before {color: black;}#sk-container-id-1 div.sk-estimator:hover label.sk-toggleable__label-arrow:before {color: black;}#sk-container-id-1 div.sk-toggleable__content {max-height: 0;max-width: 0;overflow: hidden;text-align: left;background-color: #f0f8ff;}#sk-container-id-1 div.sk-toggleable__content pre {margin: 0.2em;color: black;border-radius: 0.25em;background-color: #f0f8ff;}#sk-container-id-1 input.sk-toggleable__control:checked~div.sk-toggleable__content {max-height: 200px;max-width: 100%;overflow: auto;}#sk-container-id-1 input.sk-toggleable__control:checked~label.sk-toggleable__label-arrow:before {content: \"▾\";}#sk-container-id-1 div.sk-estimator input.sk-toggleable__control:checked~label.sk-toggleable__label {background-color: #d4ebff;}#sk-container-id-1 div.sk-label input.sk-toggleable__control:checked~label.sk-toggleable__label {background-color: #d4ebff;}#sk-container-id-1 input.sk-hidden--visually {border: 0;clip: rect(1px 1px 1px 1px);clip: rect(1px, 1px, 1px, 1px);height: 1px;margin: -1px;overflow: hidden;padding: 0;position: absolute;width: 1px;}#sk-container-id-1 div.sk-estimator {font-family: monospace;background-color: #f0f8ff;border: 1px dotted black;border-radius: 0.25em;box-sizing: border-box;margin-bottom: 0.5em;}#sk-container-id-1 div.sk-estimator:hover {background-color: #d4ebff;}#sk-container-id-1 div.sk-parallel-item::after {content: \"\";width: 100%;border-bottom: 1px solid gray;flex-grow: 1;}#sk-container-id-1 div.sk-label:hover label.sk-toggleable__label {background-color: #d4ebff;}#sk-container-id-1 div.sk-serial::before {content: \"\";position: absolute;border-left: 1px solid gray;box-sizing: border-box;top: 0;bottom: 0;left: 50%;z-index: 0;}#sk-container-id-1 div.sk-serial {display: flex;flex-direction: column;align-items: center;background-color: white;padding-right: 0.2em;padding-left: 0.2em;position: relative;}#sk-container-id-1 div.sk-item {position: relative;z-index: 1;}#sk-container-id-1 div.sk-parallel {display: flex;align-items: stretch;justify-content: center;background-color: white;position: relative;}#sk-container-id-1 div.sk-item::before, #sk-container-id-1 div.sk-parallel-item::before {content: \"\";position: absolute;border-left: 1px solid gray;box-sizing: border-box;top: 0;bottom: 0;left: 50%;z-index: -1;}#sk-container-id-1 div.sk-parallel-item {display: flex;flex-direction: column;z-index: 1;position: relative;background-color: white;}#sk-container-id-1 div.sk-parallel-item:first-child::after {align-self: flex-end;width: 50%;}#sk-container-id-1 div.sk-parallel-item:last-child::after {align-self: flex-start;width: 50%;}#sk-container-id-1 div.sk-parallel-item:only-child::after {width: 0;}#sk-container-id-1 div.sk-dashed-wrapped {border: 1px dashed gray;margin: 0 0.4em 0.5em 0.4em;box-sizing: border-box;padding-bottom: 0.4em;background-color: white;}#sk-container-id-1 div.sk-label label {font-family: monospace;font-weight: bold;display: inline-block;line-height: 1.2em;}#sk-container-id-1 div.sk-label-container {text-align: center;}#sk-container-id-1 div.sk-container {/* jupyter's `normalize.less` sets `[hidden] { display: none; }` but bootstrap.min.css set `[hidden] { display: none !important; }` so we also need the `!important` here to be able to override the default hidden behavior on the sphinx rendered scikit-learn.org. See: https://github.com/scikit-learn/scikit-learn/issues/21755 */display: inline-block !important;position: relative;}#sk-container-id-1 div.sk-text-repr-fallback {display: none;}</style><div id=\"sk-container-id-1\" class=\"sk-top-container\"><div class=\"sk-text-repr-fallback\"><pre>DecisionTreeClassifier(max_depth=3)</pre><b>In a Jupyter environment, please rerun this cell to show the HTML representation or trust the notebook. <br />On GitHub, the HTML representation is unable to render, please try loading this page with nbviewer.org.</b></div><div class=\"sk-container\" hidden><div class=\"sk-item\"><div class=\"sk-estimator sk-toggleable\"><input class=\"sk-toggleable__control sk-hidden--visually\" id=\"sk-estimator-id-1\" type=\"checkbox\" checked><label for=\"sk-estimator-id-1\" class=\"sk-toggleable__label sk-toggleable__label-arrow\">DecisionTreeClassifier</label><div class=\"sk-toggleable__content\"><pre>DecisionTreeClassifier(max_depth=3)</pre></div></div></div></div></div>"
      ],
      "text/plain": [
       "DecisionTreeClassifier(max_depth=3)"
      ]
     },
     "execution_count": 31,
     "metadata": {},
     "output_type": "execute_result"
    }
   ],
   "source": [
    "clf.fit(cabin_class, y_train)"
   ]
  },
  {
   "cell_type": "code",
   "execution_count": 32,
   "metadata": {},
   "outputs": [],
   "source": [
    "from sklearn.tree import export_graphviz\n",
    "\n",
    "def get_tree_dot_view(clf, feature_names=None, class_names=None):\n",
    "    print(export_graphviz(clf, out_file=None, filled=True, feature_names=feature_names, class_names=class_names))"
   ]
  },
  {
   "cell_type": "markdown",
   "metadata": {},
   "source": [
    "создадим список \"feature_names\" и \"class_names\" для того чтоб в дальнейшем визуализировать"
   ]
  },
  {
   "cell_type": "code",
   "execution_count": 33,
   "metadata": {},
   "outputs": [],
   "source": [
    "fn=cabin_class.columns.to_list()\n"
   ]
  },
  {
   "cell_type": "code",
   "execution_count": 34,
   "metadata": {},
   "outputs": [],
   "source": [
    "cn=['not transported', 'transported']"
   ]
  },
  {
   "cell_type": "markdown",
   "metadata": {},
   "source": [
    "Дерево можно отобразить c помощью  онлайн-сервиса http://www.webgraphviz.com"
   ]
  },
  {
   "cell_type": "code",
   "execution_count": 35,
   "metadata": {},
   "outputs": [
    {
     "name": "stdout",
     "output_type": "stream",
     "text": [
      "digraph Tree {\n",
      "node [shape=box, style=\"filled\", color=\"black\", fontname=\"helvetica\"] ;\n",
      "edge [fontname=\"helvetica\"] ;\n",
      "0 [label=\"Cryosleep <= 0.5\\ngini = 0.5\\nsamples = 8693\\nvalue = [4315, 4378]\\nclass = transported\", fillcolor=\"#fcfeff\"] ;\n",
      "1 [label=\"Child <= 0.5\\ngini = 0.446\\nsamples = 5656\\nvalue = [3761, 1895]\\nclass = not transported\", fillcolor=\"#f2c09d\"] ;\n",
      "0 -> 1 [labeldistance=2.5, labelangle=45, headlabel=\"True\"] ;\n",
      "2 [label=\"Last litter_S <= 0.5\\ngini = 0.427\\nsamples = 4844\\nvalue = [3347, 1497]\\nclass = not transported\", fillcolor=\"#f1b992\"] ;\n",
      "1 -> 2 ;\n",
      "3 [label=\"gini = 0.383\\nsamples = 2496\\nvalue = [1852, 644]\\nclass = not transported\", fillcolor=\"#eead7e\"] ;\n",
      "2 -> 3 ;\n",
      "4 [label=\"gini = 0.463\\nsamples = 2348\\nvalue = [1495, 853]\\nclass = not transported\", fillcolor=\"#f4c9aa\"] ;\n",
      "2 -> 4 ;\n",
      "5 [label=\"Home planet_Earth <= 0.5\\ngini = 0.5\\nsamples = 812\\nvalue = [414, 398]\\nclass = not transported\", fillcolor=\"#fefaf7\"] ;\n",
      "1 -> 5 ;\n",
      "6 [label=\"gini = 0.466\\nsamples = 238\\nvalue = [88, 150]\\nclass = transported\", fillcolor=\"#add6f4\"] ;\n",
      "5 -> 6 ;\n",
      "7 [label=\"gini = 0.491\\nsamples = 574\\nvalue = [326, 248]\\nclass = not transported\", fillcolor=\"#f9e1d0\"] ;\n",
      "5 -> 7 ;\n",
      "8 [label=\"Home planet_Earth <= 0.5\\ngini = 0.298\\nsamples = 3037\\nvalue = [554, 2483]\\nclass = transported\", fillcolor=\"#65b3eb\"] ;\n",
      "0 -> 8 [labeldistance=2.5, labelangle=-45, headlabel=\"False\"] ;\n",
      "9 [label=\"First litter_E <= 0.5\\ngini = 0.091\\nsamples = 1655\\nvalue = [79, 1576]\\nclass = transported\", fillcolor=\"#43a2e6\"] ;\n",
      "8 -> 9 ;\n",
      "10 [label=\"gini = 0.033\\nsamples = 1500\\nvalue = [25, 1475]\\nclass = transported\", fillcolor=\"#3c9fe5\"] ;\n",
      "9 -> 10 ;\n",
      "11 [label=\"gini = 0.454\\nsamples = 155\\nvalue = [54, 101]\\nclass = transported\", fillcolor=\"#a3d1f3\"] ;\n",
      "9 -> 11 ;\n",
      "12 [label=\"Last litter_S <= 0.5\\ngini = 0.451\\nsamples = 1382\\nvalue = [475, 907]\\nclass = transported\", fillcolor=\"#a1d0f3\"] ;\n",
      "8 -> 12 ;\n",
      "13 [label=\"gini = 0.481\\nsamples = 716\\nvalue = [289, 427]\\nclass = transported\", fillcolor=\"#bfdff7\"] ;\n",
      "12 -> 13 ;\n",
      "14 [label=\"gini = 0.403\\nsamples = 666\\nvalue = [186, 480]\\nclass = transported\", fillcolor=\"#86c3ef\"] ;\n",
      "12 -> 14 ;\n",
      "}\n"
     ]
    }
   ],
   "source": [
    "get_tree_dot_view(clf, fn, cn)"
   ]
  },
  {
   "cell_type": "markdown",
   "metadata": {},
   "source": [
    "Каждый узел (прямоугольник) дерева содержит четыре строки:  \n",
    "\n",
    "Задаваемый вопрос о значении одного из признаков конкретного измерения: от него зависит, в какую сторону мы выйдем из этого узла.  \n",
    "Gini — мера ошибки в узле. (Оценка Джини - это показатель, который количественно определяет чистоту узла )  \n",
    "___Чем меньше коэффициент Джини, тем меньше вероятность того, что выбранный образец в наборе будет классифицирован неправильно,  \n",
    "Samples — количество образцов данных (измерений) в узле.  \n",
    "Value — оценка цели для всех образцов данных в узле.  \n",
    "Class- значение показывает прогноз, который сделает данный узел, и его можно определить по"
   ]
  },
  {
   "cell_type": "code",
   "execution_count": 36,
   "metadata": {},
   "outputs": [
    {
     "data": {
      "text/plain": [
       "([<matplotlib.axis.YTick at 0x27a23bedd00>,\n",
       "  <matplotlib.axis.YTick at 0x27a23bed6a0>,\n",
       "  <matplotlib.axis.YTick at 0x27a23be57f0>,\n",
       "  <matplotlib.axis.YTick at 0x27a23c46730>,\n",
       "  <matplotlib.axis.YTick at 0x27a23c46fa0>,\n",
       "  <matplotlib.axis.YTick at 0x27a23c4acd0>,\n",
       "  <matplotlib.axis.YTick at 0x27a23c517c0>,\n",
       "  <matplotlib.axis.YTick at 0x27a23c46280>,\n",
       "  <matplotlib.axis.YTick at 0x27a23c51fa0>,\n",
       "  <matplotlib.axis.YTick at 0x27a23c58cd0>,\n",
       "  <matplotlib.axis.YTick at 0x27a23c5e7c0>,\n",
       "  <matplotlib.axis.YTick at 0x27a23c622b0>,\n",
       "  <matplotlib.axis.YTick at 0x27a23c5e1c0>,\n",
       "  <matplotlib.axis.YTick at 0x27a23c62b20>,\n",
       "  <matplotlib.axis.YTick at 0x27a23c6b610>,\n",
       "  <matplotlib.axis.YTick at 0x27a23c6be80>,\n",
       "  <matplotlib.axis.YTick at 0x27a23c72bb0>,\n",
       "  <matplotlib.axis.YTick at 0x27a23c62d00>],\n",
       " [Text(0, 0, 'Cryosleep'),\n",
       "  Text(0, 1, 'Vip'),\n",
       "  Text(0, 2, 'Adults'),\n",
       "  Text(0, 3, 'Elder'),\n",
       "  Text(0, 4, 'Child'),\n",
       "  Text(0, 5, 'First litter_A'),\n",
       "  Text(0, 6, 'First litter_B'),\n",
       "  Text(0, 7, 'First litter_C'),\n",
       "  Text(0, 8, 'First litter_D'),\n",
       "  Text(0, 9, 'First litter_E'),\n",
       "  Text(0, 10, 'First litter_F'),\n",
       "  Text(0, 11, 'First litter_G'),\n",
       "  Text(0, 12, 'First litter_T'),\n",
       "  Text(0, 13, 'Last litter_P'),\n",
       "  Text(0, 14, 'Last litter_S'),\n",
       "  Text(0, 15, 'Home planet_Earth'),\n",
       "  Text(0, 16, 'Home planet_Europa'),\n",
       "  Text(0, 17, 'Home planet_Mars')])"
      ]
     },
     "execution_count": 36,
     "metadata": {},
     "output_type": "execute_result"
    },
    {
     "data": {
      "image/png": "[encoded data removed]",
      "text/plain": [
       "<Figure size 900x600 with 1 Axes>"
      ]
     },
     "metadata": {
      "image/png": {
       "height": 505,
       "width": 872
      }
     },
     "output_type": "display_data"
    }
   ],
   "source": [
    "plt.barh(np.arange(len(clf.feature_importances_)), clf.feature_importances_)\n",
    "plt.yticks(np.arange(len(fn)),fn)"
   ]
  },
  {
   "attachments": {},
   "cell_type": "markdown",
   "metadata": {},
   "source": [
    "Из графика распределения видно, что наиболее влияющие на перенос человека это состояние криосна и планета с которой они вылетели- Земля.  \n",
    "Также можно учитывать еще и правый борт корабля и палубу E. Ну и дети.  \n",
    "Тогда преобразуем наш тренировочные данные исходя из этой информации."
   ]
  },
  {
   "cell_type": "code",
   "execution_count": 37,
   "metadata": {},
   "outputs": [],
   "source": [
    "x_train['Destination']=x_train['Destination'].fillna('TRAPPIST-1e')\n",
    "destination=pd.get_dummies(x_train, columns=['Destination'])"
   ]
  },
  {
   "cell_type": "code",
   "execution_count": 38,
   "metadata": {},
   "outputs": [],
   "source": [
    "\n",
    "x_train=x_train.drop(['Adults','Elder','Age','HomePlanet','Cabin','PassengerId'],axis=1)\n",
    "x_train['Earth']=cabin_class['Home planet_Earth']\n",
    "x_train['S']=cabin_class['Last litter_S']\n",
    "x_train['E']=cabin_class['First litter_E']\n",
    "x_train['55 Cancri e']=destination['Destination_55 Cancri e']\n",
    "x_train['TRAPPIST-1e']=destination['Destination_TRAPPIST-1e']\n",
    "x_train['PSO J318.5-22']=destination['Destination_PSO J318.5-22']\n",
    "x_train=x_train.drop(['Destination'],axis=1)"
   ]
  },
  {
   "attachments": {},
   "cell_type": "markdown",
   "metadata": {},
   "source": [
    "---\n"
   ]
  },
  {
   "cell_type": "code",
   "execution_count": 53,
   "metadata": {},
   "outputs": [],
   "source": [
    "from sklearn.model_selection import train_test_split\n",
    "from sklearn import metrics \n",
    "from sklearn.tree import DecisionTreeClassifier\n",
    "from sklearn.tree import ExtraTreeClassifier\n",
    "from sklearn.metrics import ConfusionMatrixDisplay\n"
   ]
  },
  {
   "cell_type": "code",
   "execution_count": 40,
   "metadata": {},
   "outputs": [],
   "source": [
    "X_train,X_test, y_train, y_test = train_test_split(x_train,y_train,test_size=0.3,random_state=41)"
   ]
  },
  {
   "attachments": {},
   "cell_type": "markdown",
   "metadata": {},
   "source": [
    "Y- целевая пременная из тренировочной выборки  \n",
    "X- параметры по которым определяем целевую пременную из тренировочной выборки\n",
    "\n",
    "1) X_train - сюда входят все ваши независимые переменные, они будут использоваться для обучения модели, также, поскольку мы указали test_size = 0.4,  \n",
    "это означает, что 60% наблюдений из ваших полных данных будут использоваться для обучения / подгонки модели, а остальные 40% будут использоваться для тестирования модель.\n",
    "\n",
    "2) X_test - это оставшаяся 40% часть независимых переменных из данных, которые не будут использоваться на этапе обучения и будут использоваться для составления прогнозов для проверки точности модели.\n",
    "\n",
    "3) y_train - это ваша зависимая переменная, которая должна быть предсказана этой моделью, это включает метки категорий для ваших независимых переменных, нам нужно указать нашу зависимую переменную при обучении / подгонке модели.\n",
    "\n",
    "4) y_test - эти данные имеют метки категорий для ваших тестовых данных, эти метки будут использоваться для проверки точности между фактическими и прогнозируемыми категориями."
   ]
  },
  {
   "cell_type": "code",
   "execution_count": 50,
   "metadata": {},
   "outputs": [
    {
     "name": "stdout",
     "output_type": "stream",
     "text": [
      "DecisionTreeClassifire Balanced accuracy: 0.7314589634324117\n",
      "DecisionTreeClassifire F1: 0.7085385878489326\n",
      "DecisionTreeClassifire Recall: 0.6369003690036901\n",
      "DecisionTreeClassifire Precision: 0.7983348751156337\n"
     ]
    }
   ],
   "source": [
    "dtc=DecisionTreeClassifier(max_depth=5,random_state=10)\n",
    "dtc.fit(X_train,y_train)\n",
    "dtc_pred = dtc.predict(X_test)\n",
    "print(\"DecisionTreeClassifire Balanced accuracy: {}\".format(metrics.balanced_accuracy_score(y_test,dtc_pred)))\n",
    "print(\"DecisionTreeClassifire F1: {}\".format(metrics.f1_score(y_test,dtc_pred)))\n",
    "print(\"DecisionTreeClassifire Recall: {}\".format(metrics.recall_score(y_test,dtc_pred)))\n",
    "print(\"DecisionTreeClassifire Precision: {}\".format(metrics.precision_score(y_test,dtc_pred)))"
   ]
  },
  {
   "attachments": {},
   "cell_type": "markdown",
   "metadata": {},
   "source": [
    "теперь выберем ExtraTreeClassifier  вкачестве модели обучения"
   ]
  },
  {
   "cell_type": "code",
   "execution_count": 54,
   "metadata": {},
   "outputs": [
    {
     "name": "stdout",
     "output_type": "stream",
     "text": [
      "ExtraTreeClassifire Balanced accuracy: 0.7173166687772226\n",
      "ExtraTreeClassifire F1: 0.6891105569409809\n",
      "ExtraTreeClassifire Recall: 0.6118081180811809\n",
      "ExtraTreeClassifire Precision: 0.7887725975261656\n"
     ]
    }
   ],
   "source": [
    "etc=ExtraTreeClassifier(max_depth=5,random_state=10)\n",
    "etc.fit(X_train,y_train)\n",
    "etc_pred = etc.predict(X_test)\n",
    "print(\"ExtraTreeClassifire Balanced accuracy: {}\".format(metrics.balanced_accuracy_score(y_test,etc_pred)))\n",
    "print(\"ExtraTreeClassifire F1: {}\".format(metrics.f1_score(y_test,etc_pred)))\n",
    "print(\"ExtraTreeClassifire Recall: {}\".format(metrics.recall_score(y_test,etc_pred)))\n",
    "print(\"ExtraTreeClassifire Precision: {}\".format(metrics.precision_score(y_test,etc_pred)))"
   ]
  },
  {
   "attachments": {},
   "cell_type": "markdown",
   "metadata": {},
   "source": [
    "выполним все те же преобразования для тестовой выборки"
   ]
  },
  {
   "cell_type": "code",
   "execution_count": 55,
   "metadata": {},
   "outputs": [],
   "source": [
    "test['VIP']=test.VIP.replace({ True: 1, False:0})\n",
    "test['VIP']=test['VIP'].fillna(0)\n",
    "\n",
    "test['Summary']=test[['RoomService', 'FoodCourt','ShoppingMall', 'Spa', 'VRDeck']].sum(axis=1)\n",
    "test=test.drop(columns=['RoomService', 'FoodCourt','ShoppingMall', 'Spa', 'VRDeck'])\n",
    "\n",
    "test=test.drop(columns=['Name'])\n",
    "\n",
    "test['Age']=test['Age'].fillna(test['Age'].mean())\n",
    "\n",
    "test['Child']=np.nan\n",
    "test['Adults']=np.nan\n",
    "test['Elder']=np.nan\n",
    "\n",
    "test['Child']=test['Age'].apply(class_child)\n",
    "test['Adults']=test['Age'].apply(class_adults)\n",
    "test['Elder']=test['Age'].apply(class_elder)\n",
    "\n",
    "test['CryoSleep']=test.CryoSleep.replace({ True: 1, False:0})\n",
    "test['CryoSleep']=test['CryoSleep'].fillna(0)\n",
    "\n",
    "test['55 Cancri e']=destination['Destination_55 Cancri e']\n",
    "test['TRAPPIST-1e']=destination['Destination_TRAPPIST-1e']\n",
    "test['PSO J318.5-22']=destination['Destination_PSO J318.5-22']\n",
    "\n",
    "test=test.drop(['Destination'],axis=1)\n",
    "\n",
    "test=test.drop(['Adults','Elder','Age','HomePlanet','Cabin','PassengerId'],axis=1)\n",
    "test['Earth']=cabin_class['Home planet_Earth']\n",
    "test['S']=cabin_class['Last litter_S']\n",
    "test['E']=cabin_class['First litter_E']"
   ]
  },
  {
   "cell_type": "code",
   "execution_count": 58,
   "metadata": {},
   "outputs": [
    {
     "name": "stderr",
     "output_type": "stream",
     "text": [
      "c:\\Users\\Kirilll\\AppData\\Local\\Programs\\Python\\Python38\\lib\\site-packages\\sklearn\\base.py:493: FutureWarning: The feature names should match those that were passed during fit. Starting version 1.2, an error will be raised.\n",
      "Feature names must be in the same order as they were in fit.\n",
      "\n",
      "  warnings.warn(message, FutureWarning)\n",
      "c:\\Users\\Kirilll\\AppData\\Local\\Programs\\Python\\Python38\\lib\\site-packages\\sklearn\\base.py:493: FutureWarning: The feature names should match those that were passed during fit. Starting version 1.2, an error will be raised.\n",
      "Feature names must be in the same order as they were in fit.\n",
      "\n",
      "  warnings.warn(message, FutureWarning)\n"
     ]
    }
   ],
   "source": [
    "dtc_pred_test = dtc.predict(test)\n",
    "\n",
    "etc_pred_test = etc.predict(test)"
   ]
  },
  {
   "attachments": {},
   "cell_type": "markdown",
   "metadata": {},
   "source": [
    "Теперь сделаем финальные преобразования предсказанной нами модели"
   ]
  },
  {
   "cell_type": "code",
   "execution_count": 59,
   "metadata": {},
   "outputs": [
    {
     "data": {
      "text/html": [
       "<div>\n",
       "<style scoped>\n",
       "    .dataframe tbody tr th:only-of-type {\n",
       "        vertical-align: middle;\n",
       "    }\n",
       "\n",
       "    .dataframe tbody tr th {\n",
       "        vertical-align: top;\n",
       "    }\n",
       "\n",
       "    .dataframe thead th {\n",
       "        text-align: right;\n",
       "    }\n",
       "</style>\n",
       "<table border=\"1\" class=\"dataframe\">\n",
       "  <thead>\n",
       "    <tr style=\"text-align: right;\">\n",
       "      <th></th>\n",
       "      <th>Transported</th>\n",
       "    </tr>\n",
       "  </thead>\n",
       "  <tbody>\n",
       "    <tr>\n",
       "      <th>0</th>\n",
       "      <td>True</td>\n",
       "    </tr>\n",
       "    <tr>\n",
       "      <th>1</th>\n",
       "      <td>False</td>\n",
       "    </tr>\n",
       "    <tr>\n",
       "      <th>2</th>\n",
       "      <td>True</td>\n",
       "    </tr>\n",
       "    <tr>\n",
       "      <th>3</th>\n",
       "      <td>False</td>\n",
       "    </tr>\n",
       "    <tr>\n",
       "      <th>4</th>\n",
       "      <td>False</td>\n",
       "    </tr>\n",
       "  </tbody>\n",
       "</table>\n",
       "</div>"
      ],
      "text/plain": [
       "   Transported\n",
       "0         True\n",
       "1        False\n",
       "2         True\n",
       "3        False\n",
       "4        False"
      ]
     },
     "execution_count": 59,
     "metadata": {},
     "output_type": "execute_result"
    }
   ],
   "source": [
    "sub = pd.DataFrame({'Transported':dtc_pred_test.astype(bool)},index=test.index)\n",
    "sub.head()"
   ]
  },
  {
   "cell_type": "code",
   "execution_count": 60,
   "metadata": {},
   "outputs": [],
   "source": [
    "sub.to_csv('submission.csv')"
   ]
  }
 ],
 "metadata": {
  "kernelspec": {
   "display_name": "Python 3.8.10 64-bit",
   "language": "python",
   "name": "python3"
  },
  "language_info": {
   "codemirror_mode": {
    "name": "ipython",
    "version": 3
   },
   "file_extension": ".py",
   "mimetype": "text/x-python",
   "name": "python",
   "nbconvert_exporter": "python",
   "pygments_lexer": "ipython3",
   "version": "3.8.10"
  },
  "orig_nbformat": 4,
  "vscode": {
   "interpreter": {
    "hash": "adb1797d200208ed0bc272f73bd68ac667f43ec36fda494da38fde51277876e8"
   }
  }
 },
 "nbformat": 4,
 "nbformat_minor": 2
}
